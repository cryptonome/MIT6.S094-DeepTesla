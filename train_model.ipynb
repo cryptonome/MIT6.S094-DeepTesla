{
 "cells": [
  {
   "cell_type": "code",
   "execution_count": 1,
   "metadata": {
    "ExecuteTime": {
     "end_time": "2018-01-04T07:25:58.620530Z",
     "start_time": "2018-01-04T07:25:41.451585Z"
    }
   },
   "outputs": [
    {
     "name": "stderr",
     "output_type": "stream",
     "text": [
      "Using TensorFlow backend.\n"
     ]
    }
   ],
   "source": [
    "from keras.layers import Input,Dense,Activation\n",
    "from keras.layers import Conv2D,MaxPooling2D,Lambda,Dropout,Flatten\n",
    "from keras.layers.normalization import BatchNormalization\n",
    "from keras.callbacks import EarlyStopping,CSVLogger,ModelCheckpoint\n",
    "from keras.models import Model\n",
    "from keras.models import load_model\n",
    "from keras import regularizers\n",
    "from keras import backend as K\n",
    "from keras.layers.normalization import BatchNormalization\n",
    "\n",
    "import h5py\n",
    "import time"
   ]
  },
  {
   "cell_type": "markdown",
   "metadata": {},
   "source": [
    "# Basic Model"
   ]
  },
  {
   "cell_type": "markdown",
   "metadata": {},
   "source": [
    "## Load dataset"
   ]
  },
  {
   "cell_type": "code",
   "execution_count": 2,
   "metadata": {
    "ExecuteTime": {
     "end_time": "2017-12-26T03:54:14.882666Z",
     "start_time": "2017-12-26T03:53:56.593170Z"
    },
    "scrolled": true
   },
   "outputs": [
    {
     "name": "stdout",
     "output_type": "stream",
     "text": [
      "CPU times: user 39.6 ms, sys: 9.45 s, total: 9.49 s\n",
      "Wall time: 16.1 s\n",
      "CPU times: user 2.07 ms, sys: 6.03 ms, total: 8.1 ms\n",
      "Wall time: 24.9 ms\n",
      "CPU times: user 5.52 ms, sys: 1.05 s, total: 1.05 s\n",
      "Wall time: 2 s\n",
      "CPU times: user 1.1 ms, sys: 533 µs, total: 1.63 ms\n",
      "Wall time: 2.62 ms\n"
     ]
    }
   ],
   "source": [
    "# load data\n",
    "import h5py\n",
    "\n",
    "h5f = h5py.File('./data/train.h5','r')\n",
    "%time X_train = h5f['image'][:]\n",
    "%time y_train = h5f['steering'][:]\n",
    "h5f.close()\n",
    "\n",
    "h5f2 = h5py.File('./data/test.h5','r')\n",
    "%time X_test = h5f2['image'][:]\n",
    "%time y_test = h5f2['steering'][:]\n",
    "h5f2.close()"
   ]
  },
  {
   "cell_type": "markdown",
   "metadata": {},
   "source": [
    "## Build model"
   ]
  },
  {
   "cell_type": "code",
   "execution_count": 2,
   "metadata": {
    "ExecuteTime": {
     "end_time": "2017-12-30T11:56:17.524165Z",
     "start_time": "2017-12-30T11:56:17.469299Z"
    }
   },
   "outputs": [],
   "source": [
    "def build_model(inputs_shape=None, activation='relu', optimizer = 'adam', loss='mse'):\n",
    "    \n",
    "    image_input = Input(shape=inputs_shape[1:])\n",
    "    # use strided convolutions in the ﬁrst three convolutional layers with a 2×2 stride and a 5×5 kernel and \n",
    "    x = Conv2D(24,(5,5),strides=(2,2),activation='relu',padding='valid')(image_input)\n",
    "    x = Conv2D(36,(5,5),strides=(2,2),activation='relu',padding='valid')(x)\n",
    "#     x = MaxPooling2D((2,2))(x)\n",
    "    x = Conv2D(48,(5,5),strides=(2,2),activation='relu',padding='valid')(x)\n",
    "    \n",
    "    \n",
    "#     # a non-strided convolution with a 3×3 kernel size in the last two convolutional layers\n",
    "    x = Conv2D(64,(3,3),strides=(1,1),activation='relu',padding='valid')(x)\n",
    "#     x = MaxPooling2D((2,2))(x)\n",
    "    x = Conv2D(64,(3,3),strides=(1,1),activation='relu',padding='valid')(x)\n",
    "    x = Flatten()(x)\n",
    "    x = Dense(100,activation='relu')(x)\n",
    "    x = Dense(50,activation='relu')(x)\n",
    "    x = Dense(10,activation='relu')(x)\n",
    "    out = Dense(1)(x)\n",
    "    \n",
    "    model = Model(inputs=image_input, outputs=out)\n",
    "    model.compile(optimizer=optimizer, loss =loss)\n",
    "    \n",
    "    return model\n"
   ]
  },
  {
   "cell_type": "code",
   "execution_count": 54,
   "metadata": {
    "ExecuteTime": {
     "end_time": "2017-12-23T16:35:21.048964Z",
     "start_time": "2017-12-23T16:35:21.011650Z"
    }
   },
   "outputs": [
    {
     "data": {
      "text/plain": [
       "(24300, 66, 200, 3)"
      ]
     },
     "execution_count": 54,
     "metadata": {},
     "output_type": "execute_result"
    }
   ],
   "source": [
    "X_train.shape"
   ]
  },
  {
   "cell_type": "code",
   "execution_count": 4,
   "metadata": {
    "ExecuteTime": {
     "end_time": "2017-12-30T11:56:32.158396Z",
     "start_time": "2017-12-30T11:56:31.846014Z"
    }
   },
   "outputs": [
    {
     "name": "stdout",
     "output_type": "stream",
     "text": [
      "_________________________________________________________________\n",
      "Layer (type)                 Output Shape              Param #   \n",
      "=================================================================\n",
      "input_1 (InputLayer)         (None, 66, 200, 3)        0         \n",
      "_________________________________________________________________\n",
      "conv2d_1 (Conv2D)            (None, 31, 98, 24)        1824      \n",
      "_________________________________________________________________\n",
      "conv2d_2 (Conv2D)            (None, 14, 47, 36)        21636     \n",
      "_________________________________________________________________\n",
      "conv2d_3 (Conv2D)            (None, 5, 22, 48)         43248     \n",
      "_________________________________________________________________\n",
      "conv2d_4 (Conv2D)            (None, 3, 20, 64)         27712     \n",
      "_________________________________________________________________\n",
      "conv2d_5 (Conv2D)            (None, 1, 18, 64)         36928     \n",
      "_________________________________________________________________\n",
      "flatten_1 (Flatten)          (None, 1152)              0         \n",
      "_________________________________________________________________\n",
      "dense_1 (Dense)              (None, 100)               115300    \n",
      "_________________________________________________________________\n",
      "dense_2 (Dense)              (None, 50)                5050      \n",
      "_________________________________________________________________\n",
      "dense_3 (Dense)              (None, 10)                510       \n",
      "_________________________________________________________________\n",
      "dense_4 (Dense)              (None, 1)                 11        \n",
      "=================================================================\n",
      "Total params: 252,219\n",
      "Trainable params: 252,219\n",
      "Non-trainable params: 0\n",
      "_________________________________________________________________\n"
     ]
    }
   ],
   "source": [
    "# reset graph\n",
    "K.clear_session()\n",
    "\n",
    "# model = build_model(inputs_shape=X_train.shape)\n",
    "model = build_model(inputs_shape=(24300, 66, 200, 3))\n",
    "model.summary()"
   ]
  },
  {
   "cell_type": "markdown",
   "metadata": {},
   "source": [
    "## Train model"
   ]
  },
  {
   "cell_type": "code",
   "execution_count": 33,
   "metadata": {
    "ExecuteTime": {
     "end_time": "2017-12-23T12:46:34.837835Z",
     "start_time": "2017-12-23T12:33:11.338650Z"
    },
    "scrolled": true
   },
   "outputs": [
    {
     "name": "stdout",
     "output_type": "stream",
     "text": [
      "Train on 21870 samples, validate on 2430 samples\n",
      "Epoch 1/20\n",
      "21870/21870 [==============================] - 287s - loss: 11.6652 - val_loss: 3.2986\n",
      "Epoch 2/20\n",
      "21870/21870 [==============================] - 254s - loss: 1.5485 - val_loss: 0.7466\n",
      "Epoch 3/20\n",
      "21870/21870 [==============================] - 250s - loss: 0.7658 - val_loss: 0.6074\n",
      "Epoch 4/20\n",
      "  704/21870 [..............................] - ETA: 271s - loss: 0.9753"
     ]
    },
    {
     "ename": "KeyboardInterrupt",
     "evalue": "",
     "output_type": "error",
     "traceback": [
      "\u001b[0;31m---------------------------------------------------------------------------\u001b[0m",
      "\u001b[0;31mKeyboardInterrupt\u001b[0m                         Traceback (most recent call last)",
      "\u001b[0;32m<ipython-input-33-50ec3061aff3>\u001b[0m in \u001b[0;36m<module>\u001b[0;34m()\u001b[0m\n\u001b[1;32m      7\u001b[0m              ModelCheckpoint(filepath, monitor='val_loss',save_best_only=True)]    \n\u001b[1;32m      8\u001b[0m \u001b[0;34m\u001b[0m\u001b[0m\n\u001b[0;32m----> 9\u001b[0;31m \u001b[0mmodel\u001b[0m\u001b[0;34m.\u001b[0m\u001b[0mfit\u001b[0m\u001b[0;34m(\u001b[0m\u001b[0mX_train\u001b[0m\u001b[0;34m,\u001b[0m \u001b[0my_train\u001b[0m\u001b[0;34m,\u001b[0m\u001b[0mepochs\u001b[0m\u001b[0;34m=\u001b[0m\u001b[0;36m20\u001b[0m\u001b[0;34m,\u001b[0m\u001b[0mbatch_size\u001b[0m\u001b[0;34m=\u001b[0m\u001b[0;36m32\u001b[0m\u001b[0;34m,\u001b[0m\u001b[0mvalidation_split\u001b[0m\u001b[0;34m=\u001b[0m\u001b[0;36m0.1\u001b[0m\u001b[0;34m,\u001b[0m\u001b[0mcallbacks\u001b[0m\u001b[0;34m=\u001b[0m\u001b[0mcallbacks\u001b[0m\u001b[0;34m,\u001b[0m\u001b[0mshuffle\u001b[0m\u001b[0;34m=\u001b[0m\u001b[0;34m\"batch\"\u001b[0m\u001b[0;34m)\u001b[0m\u001b[0;34m\u001b[0m\u001b[0m\n\u001b[0m\u001b[1;32m     10\u001b[0m \u001b[0mscores\u001b[0m \u001b[0;34m=\u001b[0m \u001b[0mmodel1\u001b[0m\u001b[0;34m.\u001b[0m\u001b[0mevaluate\u001b[0m\u001b[0;34m(\u001b[0m\u001b[0mX_test\u001b[0m\u001b[0;34m,\u001b[0m \u001b[0my_test_label\u001b[0m\u001b[0;34m,\u001b[0m \u001b[0mverbose\u001b[0m\u001b[0;34m=\u001b[0m\u001b[0;36m0\u001b[0m\u001b[0;34m)\u001b[0m\u001b[0;34m\u001b[0m\u001b[0m\n",
      "\u001b[0;32m~/miniconda3/envs/carnd-term1/lib/python3.5/site-packages/keras/engine/training.py\u001b[0m in \u001b[0;36mfit\u001b[0;34m(self, x, y, batch_size, epochs, verbose, callbacks, validation_split, validation_data, shuffle, class_weight, sample_weight, initial_epoch, steps_per_epoch, validation_steps, **kwargs)\u001b[0m\n\u001b[1;32m   1596\u001b[0m                               \u001b[0minitial_epoch\u001b[0m\u001b[0;34m=\u001b[0m\u001b[0minitial_epoch\u001b[0m\u001b[0;34m,\u001b[0m\u001b[0;34m\u001b[0m\u001b[0m\n\u001b[1;32m   1597\u001b[0m                               \u001b[0msteps_per_epoch\u001b[0m\u001b[0;34m=\u001b[0m\u001b[0msteps_per_epoch\u001b[0m\u001b[0;34m,\u001b[0m\u001b[0;34m\u001b[0m\u001b[0m\n\u001b[0;32m-> 1598\u001b[0;31m                               validation_steps=validation_steps)\n\u001b[0m\u001b[1;32m   1599\u001b[0m \u001b[0;34m\u001b[0m\u001b[0m\n\u001b[1;32m   1600\u001b[0m     def evaluate(self, x, y,\n",
      "\u001b[0;32m~/miniconda3/envs/carnd-term1/lib/python3.5/site-packages/keras/engine/training.py\u001b[0m in \u001b[0;36m_fit_loop\u001b[0;34m(self, f, ins, out_labels, batch_size, epochs, verbose, callbacks, val_f, val_ins, shuffle, callback_metrics, initial_epoch, steps_per_epoch, validation_steps)\u001b[0m\n\u001b[1;32m   1181\u001b[0m                     \u001b[0mbatch_logs\u001b[0m\u001b[0;34m[\u001b[0m\u001b[0;34m'size'\u001b[0m\u001b[0;34m]\u001b[0m \u001b[0;34m=\u001b[0m \u001b[0mlen\u001b[0m\u001b[0;34m(\u001b[0m\u001b[0mbatch_ids\u001b[0m\u001b[0;34m)\u001b[0m\u001b[0;34m\u001b[0m\u001b[0m\n\u001b[1;32m   1182\u001b[0m                     \u001b[0mcallbacks\u001b[0m\u001b[0;34m.\u001b[0m\u001b[0mon_batch_begin\u001b[0m\u001b[0;34m(\u001b[0m\u001b[0mbatch_index\u001b[0m\u001b[0;34m,\u001b[0m \u001b[0mbatch_logs\u001b[0m\u001b[0;34m)\u001b[0m\u001b[0;34m\u001b[0m\u001b[0m\n\u001b[0;32m-> 1183\u001b[0;31m                     \u001b[0mouts\u001b[0m \u001b[0;34m=\u001b[0m \u001b[0mf\u001b[0m\u001b[0;34m(\u001b[0m\u001b[0mins_batch\u001b[0m\u001b[0;34m)\u001b[0m\u001b[0;34m\u001b[0m\u001b[0m\n\u001b[0m\u001b[1;32m   1184\u001b[0m                     \u001b[0;32mif\u001b[0m \u001b[0;32mnot\u001b[0m \u001b[0misinstance\u001b[0m\u001b[0;34m(\u001b[0m\u001b[0mouts\u001b[0m\u001b[0;34m,\u001b[0m \u001b[0mlist\u001b[0m\u001b[0;34m)\u001b[0m\u001b[0;34m:\u001b[0m\u001b[0;34m\u001b[0m\u001b[0m\n\u001b[1;32m   1185\u001b[0m                         \u001b[0mouts\u001b[0m \u001b[0;34m=\u001b[0m \u001b[0;34m[\u001b[0m\u001b[0mouts\u001b[0m\u001b[0;34m]\u001b[0m\u001b[0;34m\u001b[0m\u001b[0m\n",
      "\u001b[0;32m~/miniconda3/envs/carnd-term1/lib/python3.5/site-packages/keras/backend/tensorflow_backend.py\u001b[0m in \u001b[0;36m__call__\u001b[0;34m(self, inputs)\u001b[0m\n\u001b[1;32m   2271\u001b[0m         updated = session.run(self.outputs + [self.updates_op],\n\u001b[1;32m   2272\u001b[0m                               \u001b[0mfeed_dict\u001b[0m\u001b[0;34m=\u001b[0m\u001b[0mfeed_dict\u001b[0m\u001b[0;34m,\u001b[0m\u001b[0;34m\u001b[0m\u001b[0m\n\u001b[0;32m-> 2273\u001b[0;31m                               **self.session_kwargs)\n\u001b[0m\u001b[1;32m   2274\u001b[0m         \u001b[0;32mreturn\u001b[0m \u001b[0mupdated\u001b[0m\u001b[0;34m[\u001b[0m\u001b[0;34m:\u001b[0m\u001b[0mlen\u001b[0m\u001b[0;34m(\u001b[0m\u001b[0mself\u001b[0m\u001b[0;34m.\u001b[0m\u001b[0moutputs\u001b[0m\u001b[0;34m)\u001b[0m\u001b[0;34m]\u001b[0m\u001b[0;34m\u001b[0m\u001b[0m\n\u001b[1;32m   2275\u001b[0m \u001b[0;34m\u001b[0m\u001b[0m\n",
      "\u001b[0;32m~/miniconda3/envs/carnd-term1/lib/python3.5/site-packages/tensorflow/python/client/session.py\u001b[0m in \u001b[0;36mrun\u001b[0;34m(self, fetches, feed_dict, options, run_metadata)\u001b[0m\n\u001b[1;32m    893\u001b[0m     \u001b[0;32mtry\u001b[0m\u001b[0;34m:\u001b[0m\u001b[0;34m\u001b[0m\u001b[0m\n\u001b[1;32m    894\u001b[0m       result = self._run(None, fetches, feed_dict, options_ptr,\n\u001b[0;32m--> 895\u001b[0;31m                          run_metadata_ptr)\n\u001b[0m\u001b[1;32m    896\u001b[0m       \u001b[0;32mif\u001b[0m \u001b[0mrun_metadata\u001b[0m\u001b[0;34m:\u001b[0m\u001b[0;34m\u001b[0m\u001b[0m\n\u001b[1;32m    897\u001b[0m         \u001b[0mproto_data\u001b[0m \u001b[0;34m=\u001b[0m \u001b[0mtf_session\u001b[0m\u001b[0;34m.\u001b[0m\u001b[0mTF_GetBuffer\u001b[0m\u001b[0;34m(\u001b[0m\u001b[0mrun_metadata_ptr\u001b[0m\u001b[0;34m)\u001b[0m\u001b[0;34m\u001b[0m\u001b[0m\n",
      "\u001b[0;32m~/miniconda3/envs/carnd-term1/lib/python3.5/site-packages/tensorflow/python/client/session.py\u001b[0m in \u001b[0;36m_run\u001b[0;34m(self, handle, fetches, feed_dict, options, run_metadata)\u001b[0m\n\u001b[1;32m   1122\u001b[0m     \u001b[0;32mif\u001b[0m \u001b[0mfinal_fetches\u001b[0m \u001b[0;32mor\u001b[0m \u001b[0mfinal_targets\u001b[0m \u001b[0;32mor\u001b[0m \u001b[0;34m(\u001b[0m\u001b[0mhandle\u001b[0m \u001b[0;32mand\u001b[0m \u001b[0mfeed_dict_tensor\u001b[0m\u001b[0;34m)\u001b[0m\u001b[0;34m:\u001b[0m\u001b[0;34m\u001b[0m\u001b[0m\n\u001b[1;32m   1123\u001b[0m       results = self._do_run(handle, final_targets, final_fetches,\n\u001b[0;32m-> 1124\u001b[0;31m                              feed_dict_tensor, options, run_metadata)\n\u001b[0m\u001b[1;32m   1125\u001b[0m     \u001b[0;32melse\u001b[0m\u001b[0;34m:\u001b[0m\u001b[0;34m\u001b[0m\u001b[0m\n\u001b[1;32m   1126\u001b[0m       \u001b[0mresults\u001b[0m \u001b[0;34m=\u001b[0m \u001b[0;34m[\u001b[0m\u001b[0;34m]\u001b[0m\u001b[0;34m\u001b[0m\u001b[0m\n",
      "\u001b[0;32m~/miniconda3/envs/carnd-term1/lib/python3.5/site-packages/tensorflow/python/client/session.py\u001b[0m in \u001b[0;36m_do_run\u001b[0;34m(self, handle, target_list, fetch_list, feed_dict, options, run_metadata)\u001b[0m\n\u001b[1;32m   1319\u001b[0m     \u001b[0;32mif\u001b[0m \u001b[0mhandle\u001b[0m \u001b[0;32mis\u001b[0m \u001b[0;32mNone\u001b[0m\u001b[0;34m:\u001b[0m\u001b[0;34m\u001b[0m\u001b[0m\n\u001b[1;32m   1320\u001b[0m       return self._do_call(_run_fn, self._session, feeds, fetches, targets,\n\u001b[0;32m-> 1321\u001b[0;31m                            options, run_metadata)\n\u001b[0m\u001b[1;32m   1322\u001b[0m     \u001b[0;32melse\u001b[0m\u001b[0;34m:\u001b[0m\u001b[0;34m\u001b[0m\u001b[0m\n\u001b[1;32m   1323\u001b[0m       \u001b[0;32mreturn\u001b[0m \u001b[0mself\u001b[0m\u001b[0;34m.\u001b[0m\u001b[0m_do_call\u001b[0m\u001b[0;34m(\u001b[0m\u001b[0m_prun_fn\u001b[0m\u001b[0;34m,\u001b[0m \u001b[0mself\u001b[0m\u001b[0;34m.\u001b[0m\u001b[0m_session\u001b[0m\u001b[0;34m,\u001b[0m \u001b[0mhandle\u001b[0m\u001b[0;34m,\u001b[0m \u001b[0mfeeds\u001b[0m\u001b[0;34m,\u001b[0m \u001b[0mfetches\u001b[0m\u001b[0;34m)\u001b[0m\u001b[0;34m\u001b[0m\u001b[0m\n",
      "\u001b[0;32m~/miniconda3/envs/carnd-term1/lib/python3.5/site-packages/tensorflow/python/client/session.py\u001b[0m in \u001b[0;36m_do_call\u001b[0;34m(self, fn, *args)\u001b[0m\n\u001b[1;32m   1325\u001b[0m   \u001b[0;32mdef\u001b[0m \u001b[0m_do_call\u001b[0m\u001b[0;34m(\u001b[0m\u001b[0mself\u001b[0m\u001b[0;34m,\u001b[0m \u001b[0mfn\u001b[0m\u001b[0;34m,\u001b[0m \u001b[0;34m*\u001b[0m\u001b[0margs\u001b[0m\u001b[0;34m)\u001b[0m\u001b[0;34m:\u001b[0m\u001b[0;34m\u001b[0m\u001b[0m\n\u001b[1;32m   1326\u001b[0m     \u001b[0;32mtry\u001b[0m\u001b[0;34m:\u001b[0m\u001b[0;34m\u001b[0m\u001b[0m\n\u001b[0;32m-> 1327\u001b[0;31m       \u001b[0;32mreturn\u001b[0m \u001b[0mfn\u001b[0m\u001b[0;34m(\u001b[0m\u001b[0;34m*\u001b[0m\u001b[0margs\u001b[0m\u001b[0;34m)\u001b[0m\u001b[0;34m\u001b[0m\u001b[0m\n\u001b[0m\u001b[1;32m   1328\u001b[0m     \u001b[0;32mexcept\u001b[0m \u001b[0merrors\u001b[0m\u001b[0;34m.\u001b[0m\u001b[0mOpError\u001b[0m \u001b[0;32mas\u001b[0m \u001b[0me\u001b[0m\u001b[0;34m:\u001b[0m\u001b[0;34m\u001b[0m\u001b[0m\n\u001b[1;32m   1329\u001b[0m       \u001b[0mmessage\u001b[0m \u001b[0;34m=\u001b[0m \u001b[0mcompat\u001b[0m\u001b[0;34m.\u001b[0m\u001b[0mas_text\u001b[0m\u001b[0;34m(\u001b[0m\u001b[0me\u001b[0m\u001b[0;34m.\u001b[0m\u001b[0mmessage\u001b[0m\u001b[0;34m)\u001b[0m\u001b[0;34m\u001b[0m\u001b[0m\n",
      "\u001b[0;32m~/miniconda3/envs/carnd-term1/lib/python3.5/site-packages/tensorflow/python/client/session.py\u001b[0m in \u001b[0;36m_run_fn\u001b[0;34m(session, feed_dict, fetch_list, target_list, options, run_metadata)\u001b[0m\n\u001b[1;32m   1304\u001b[0m           return tf_session.TF_Run(session, options,\n\u001b[1;32m   1305\u001b[0m                                    \u001b[0mfeed_dict\u001b[0m\u001b[0;34m,\u001b[0m \u001b[0mfetch_list\u001b[0m\u001b[0;34m,\u001b[0m \u001b[0mtarget_list\u001b[0m\u001b[0;34m,\u001b[0m\u001b[0;34m\u001b[0m\u001b[0m\n\u001b[0;32m-> 1306\u001b[0;31m                                    status, run_metadata)\n\u001b[0m\u001b[1;32m   1307\u001b[0m \u001b[0;34m\u001b[0m\u001b[0m\n\u001b[1;32m   1308\u001b[0m     \u001b[0;32mdef\u001b[0m \u001b[0m_prun_fn\u001b[0m\u001b[0;34m(\u001b[0m\u001b[0msession\u001b[0m\u001b[0;34m,\u001b[0m \u001b[0mhandle\u001b[0m\u001b[0;34m,\u001b[0m \u001b[0mfeed_dict\u001b[0m\u001b[0;34m,\u001b[0m \u001b[0mfetch_list\u001b[0m\u001b[0;34m)\u001b[0m\u001b[0;34m:\u001b[0m\u001b[0;34m\u001b[0m\u001b[0m\n",
      "\u001b[0;31mKeyboardInterrupt\u001b[0m: "
     ]
    }
   ],
   "source": [
    "#------------ train with early stop --------------\n",
    "from keras.callbacks import EarlyStopping,CSVLogger,ModelCheckpoint\n",
    "\n",
    "\n",
    "filepath=\"./models/base_{val_loss:.3f}.h5\"\n",
    "callbacks = [EarlyStopping(monitor='val_loss',patience=5),\n",
    "             ModelCheckpoint(filepath, monitor='val_loss',save_best_only=True)]    \n",
    "\n",
    "model.fit(X_train, y_train,epochs=20,batch_size=32,validation_split=0.1,callbacks=callbacks,shuffle=\"batch\")\n",
    "scores = model1.evaluate(X_test, y_test_label, verbose=0)"
   ]
  },
  {
   "cell_type": "code",
   "execution_count": 36,
   "metadata": {
    "ExecuteTime": {
     "end_time": "2017-12-23T12:52:46.174252Z",
     "start_time": "2017-12-23T12:52:32.510993Z"
    }
   },
   "outputs": [
    {
     "name": "stdout",
     "output_type": "stream",
     "text": [
      "2700/2700 [==============================] - 11s    \n"
     ]
    },
    {
     "data": {
      "text/plain": [
       "2.9817809388372631"
      ]
     },
     "execution_count": 36,
     "metadata": {},
     "output_type": "execute_result"
    }
   ],
   "source": [
    "\n",
    "from keras.models import load_model\n",
    "\n",
    "model_load = load_model('./models/base_0.747.h5')\n",
    "model_load.evaluate(X_test, y_test)"
   ]
  },
  {
   "cell_type": "markdown",
   "metadata": {},
   "source": [
    "# Refine model"
   ]
  },
  {
   "cell_type": "markdown",
   "metadata": {},
   "source": [
    "## Using RBG"
   ]
  },
  {
   "cell_type": "code",
   "execution_count": null,
   "metadata": {},
   "outputs": [],
   "source": [
    "def build_model(inputs_shape=None, activation='relu', optimizer = 'adam', loss='mse'):\n",
    "\n",
    "# reset graph\n",
    "K.clear_session()\n",
    "\n",
    "model = build_model(inputs_shape=X_train.shape)\n",
    "model.summary()    "
   ]
  },
  {
   "cell_type": "code",
   "execution_count": 56,
   "metadata": {
    "ExecuteTime": {
     "end_time": "2017-12-24T07:40:48.839429Z",
     "start_time": "2017-12-23T16:38:24.517193Z"
    },
    "scrolled": true
   },
   "outputs": [
    {
     "name": "stdout",
     "output_type": "stream",
     "text": [
      "---------------------------training model basic----------------------\n",
      "\n",
      "Train on 20655 samples, validate on 3645 samples\n",
      "Epoch 1/20\n",
      "20655/20655 [==============================] - 255s - loss: 12.8659 - val_loss: 4.2837\n",
      "Epoch 2/20\n",
      "20655/20655 [==============================] - 239s - loss: 2.1452 - val_loss: 1.1969\n",
      "Epoch 3/20\n",
      "20655/20655 [==============================] - 229s - loss: 0.8160 - val_loss: 0.6555\n",
      "Epoch 4/20\n",
      "20655/20655 [==============================] - 235s - loss: 0.5081 - val_loss: 0.4802\n",
      "Epoch 5/20\n",
      "20655/20655 [==============================] - 215s - loss: 0.4118 - val_loss: 0.4165\n",
      "Epoch 6/20\n",
      "20655/20655 [==============================] - 217s - loss: 0.3582 - val_loss: 0.2714\n",
      "Epoch 7/20\n",
      "20655/20655 [==============================] - 212s - loss: 0.3051 - val_loss: 0.2665\n",
      "Epoch 8/20\n",
      "20655/20655 [==============================] - 208s - loss: 0.2814 - val_loss: 0.4702\n",
      "Epoch 9/20\n",
      "20655/20655 [==============================] - 210s - loss: 0.2920 - val_loss: 0.2372\n",
      "Epoch 10/20\n",
      "20655/20655 [==============================] - 212s - loss: 0.2205 - val_loss: 0.2184\n",
      "Epoch 11/20\n",
      "20655/20655 [==============================] - 208s - loss: 0.2206 - val_loss: 0.2892\n",
      "Epoch 12/20\n",
      "20655/20655 [==============================] - 212s - loss: 0.2361 - val_loss: 0.1834\n",
      "Epoch 13/20\n",
      "20655/20655 [==============================] - 207s - loss: 0.2389 - val_loss: 0.1985\n",
      "Epoch 14/20\n",
      "20655/20655 [==============================] - 211s - loss: 0.2308 - val_loss: 0.3037\n",
      "Epoch 15/20\n",
      "20655/20655 [==============================] - 211s - loss: 0.2209 - val_loss: 0.1839\n",
      "Epoch 16/20\n",
      "20655/20655 [==============================] - 205s - loss: 0.1529 - val_loss: 0.1518\n",
      "Epoch 17/20\n",
      "20655/20655 [==============================] - 210s - loss: 0.1788 - val_loss: 0.3150\n",
      "Epoch 18/20\n",
      "20655/20655 [==============================] - 208s - loss: 0.1949 - val_loss: 0.1463\n",
      "Epoch 19/20\n",
      "20655/20655 [==============================] - 210s - loss: 0.1513 - val_loss: 0.1716\n",
      "Epoch 20/20\n",
      "20655/20655 [==============================] - 213s - loss: 0.1505 - val_loss: 0.1901\n",
      "------------------------trining model basic, score 3.119313227159006, using time 4338.039994001389 \n",
      "\n",
      "---------------------------training model BN----------------------\n",
      "\n",
      "Train on 20655 samples, validate on 3645 samples\n",
      "Epoch 1/20\n",
      "20655/20655 [==============================] - 330s - loss: 4.5761 - val_loss: 13.6687\n",
      "Epoch 2/20\n",
      "20655/20655 [==============================] - 320s - loss: 1.2164 - val_loss: 0.8586\n",
      "Epoch 3/20\n",
      "20655/20655 [==============================] - 318s - loss: 0.8620 - val_loss: 2.0240\n",
      "Epoch 4/20\n",
      "20655/20655 [==============================] - 318s - loss: 0.7253 - val_loss: 0.4052\n",
      "Epoch 5/20\n",
      "20655/20655 [==============================] - 313s - loss: 0.6356 - val_loss: 0.3148\n",
      "Epoch 6/20\n",
      "20655/20655 [==============================] - 314s - loss: 0.5907 - val_loss: 0.4606\n",
      "Epoch 7/20\n",
      "20655/20655 [==============================] - 313s - loss: 0.5631 - val_loss: 1.2377\n",
      "Epoch 8/20\n",
      "20655/20655 [==============================] - 316s - loss: 0.5359 - val_loss: 0.2155\n",
      "Epoch 9/20\n",
      "20655/20655 [==============================] - 322s - loss: 0.5110 - val_loss: 0.9718\n",
      "Epoch 10/20\n",
      "20655/20655 [==============================] - 320s - loss: 0.5088 - val_loss: 0.5547\n",
      "Epoch 11/20\n",
      "20655/20655 [==============================] - 313s - loss: 0.4970 - val_loss: 0.2348\n",
      "Epoch 12/20\n",
      "20655/20655 [==============================] - 320s - loss: 0.4719 - val_loss: 0.4955\n",
      "Epoch 13/20\n",
      "20655/20655 [==============================] - 315s - loss: 0.4776 - val_loss: 0.3606\n",
      "Epoch 14/20\n",
      "20655/20655 [==============================] - 317s - loss: 0.4762 - val_loss: 0.2183\n",
      "------------------------trining model BN, score 2.8302908685472277, using time 4460.9515290260315 \n",
      "\n",
      "---------------------------training model pool----------------------\n",
      "\n",
      "Train on 20655 samples, validate on 3645 samples\n",
      "Epoch 1/20\n",
      "20655/20655 [==============================] - 764s - loss: 10.6367 - val_loss: 2.6633\n",
      "Epoch 2/20\n",
      "20655/20655 [==============================] - 756s - loss: 1.5760 - val_loss: 0.9114\n",
      "Epoch 3/20\n",
      "20655/20655 [==============================] - 748s - loss: 0.8280 - val_loss: 0.7769\n",
      "Epoch 4/20\n",
      "20655/20655 [==============================] - 754s - loss: 0.5396 - val_loss: 0.4196\n",
      "Epoch 5/20\n",
      "20655/20655 [==============================] - 761s - loss: 0.3931 - val_loss: 0.3170\n",
      "Epoch 6/20\n",
      "20655/20655 [==============================] - 755s - loss: 0.3432 - val_loss: 0.3511\n",
      "Epoch 7/20\n",
      "20655/20655 [==============================] - 747s - loss: 0.3303 - val_loss: 0.2416\n",
      "Epoch 8/20\n",
      "20655/20655 [==============================] - 759s - loss: 0.2487 - val_loss: 0.2561\n",
      "Epoch 9/20\n",
      "20655/20655 [==============================] - 758s - loss: 0.2479 - val_loss: 0.2141\n",
      "Epoch 10/20\n",
      "20655/20655 [==============================] - 757s - loss: 0.2471 - val_loss: 0.2492\n",
      "Epoch 11/20\n",
      "20655/20655 [==============================] - 742s - loss: 0.2528 - val_loss: 0.2550\n",
      "Epoch 12/20\n",
      "20655/20655 [==============================] - 757s - loss: 0.2355 - val_loss: 0.3521\n",
      "Epoch 13/20\n",
      "20655/20655 [==============================] - 759s - loss: 0.1864 - val_loss: 0.2473\n",
      "Epoch 14/20\n",
      "20655/20655 [==============================] - 758s - loss: 0.2076 - val_loss: 0.1476\n",
      "Epoch 15/20\n",
      "20655/20655 [==============================] - 758s - loss: 0.1788 - val_loss: 0.1763\n",
      "Epoch 16/20\n",
      "20655/20655 [==============================] - 746s - loss: 0.2037 - val_loss: 0.1633\n",
      "Epoch 17/20\n",
      "20655/20655 [==============================] - 750s - loss: 0.1985 - val_loss: 0.1818\n",
      "Epoch 18/20\n",
      "20655/20655 [==============================] - 758s - loss: 0.1958 - val_loss: 0.1661\n",
      "Epoch 19/20\n",
      "20655/20655 [==============================] - 763s - loss: 0.2023 - val_loss: 0.1379\n",
      "Epoch 20/20\n",
      "20655/20655 [==============================] - 761s - loss: 0.1348 - val_loss: 0.1428\n",
      "------------------------trining model pool, score 3.2402693656638815, using time 15128.657741069794 \n",
      "\n",
      "---------------------------training model drop----------------------\n",
      "\n",
      "Train on 20655 samples, validate on 3645 samples\n",
      "Epoch 1/20\n",
      "20655/20655 [==============================] - 209s - loss: 19.7816 - val_loss: 10.8169\n",
      "Epoch 2/20\n",
      "20655/20655 [==============================] - 204s - loss: 6.6666 - val_loss: 2.4400\n",
      "Epoch 3/20\n",
      "20655/20655 [==============================] - 213s - loss: 2.5727 - val_loss: 1.1647\n",
      "Epoch 4/20\n",
      "20655/20655 [==============================] - 216s - loss: 1.8403 - val_loss: 0.9144\n",
      "Epoch 5/20\n",
      "20655/20655 [==============================] - 209s - loss: 1.4610 - val_loss: 0.6496\n",
      "Epoch 6/20\n",
      "20655/20655 [==============================] - 211s - loss: 1.1854 - val_loss: 0.5449\n",
      "Epoch 7/20\n",
      "20655/20655 [==============================] - 216s - loss: 1.0702 - val_loss: 1.1752\n",
      "Epoch 8/20\n",
      "20655/20655 [==============================] - 207s - loss: 1.0194 - val_loss: 0.5794\n",
      "Epoch 9/20\n",
      "20655/20655 [==============================] - 210s - loss: 0.8922 - val_loss: 0.4329\n",
      "Epoch 10/20\n",
      "20655/20655 [==============================] - 213s - loss: 0.7817 - val_loss: 0.9789\n",
      "Epoch 11/20\n",
      "20655/20655 [==============================] - 213s - loss: 0.7832 - val_loss: 0.5254\n",
      "Epoch 12/20\n",
      "20655/20655 [==============================] - 215s - loss: 0.6781 - val_loss: 0.4556\n",
      "Epoch 13/20\n",
      "20655/20655 [==============================] - 208s - loss: 0.6498 - val_loss: 0.5980\n",
      "Epoch 14/20\n",
      "20655/20655 [==============================] - 207s - loss: 0.6220 - val_loss: 0.5651\n",
      "Epoch 15/20\n",
      "20655/20655 [==============================] - 207s - loss: 0.5895 - val_loss: 0.4164\n",
      "Epoch 16/20\n",
      "20655/20655 [==============================] - 212s - loss: 0.6194 - val_loss: 0.4463\n",
      "Epoch 17/20\n",
      "20655/20655 [==============================] - 209s - loss: 0.5697 - val_loss: 0.5424\n",
      "Epoch 18/20\n",
      "20655/20655 [==============================] - 206s - loss: 0.5116 - val_loss: 0.4625\n",
      "Epoch 19/20\n",
      "20655/20655 [==============================] - 211s - loss: 0.4825 - val_loss: 0.4452\n",
      "Epoch 20/20\n",
      "20655/20655 [==============================] - 212s - loss: 0.4909 - val_loss: 0.6185\n",
      "------------------------trining model drop, score 2.327647100554572, using time 4218.319137096405 \n",
      "\n",
      "---------------------------training model smallkernel----------------------\n",
      "\n",
      "Train on 20655 samples, validate on 3645 samples\n",
      "Epoch 1/20\n"
     ]
    },
    {
     "name": "stdout",
     "output_type": "stream",
     "text": [
      "20655/20655 [==============================] - 973s - loss: 11.8340 - val_loss: 2.8978\n",
      "Epoch 2/20\n",
      "20655/20655 [==============================] - 955s - loss: 1.9303 - val_loss: 0.9288\n",
      "Epoch 3/20\n",
      "20655/20655 [==============================] - 966s - loss: 0.8392 - val_loss: 0.7590\n",
      "Epoch 4/20\n",
      "20655/20655 [==============================] - 990s - loss: 0.5028 - val_loss: 0.4158\n",
      "Epoch 5/20\n",
      "20655/20655 [==============================] - 971s - loss: 0.4219 - val_loss: 0.2955\n",
      "Epoch 6/20\n",
      "20655/20655 [==============================] - 980s - loss: 0.3576 - val_loss: 0.3133\n",
      "Epoch 7/20\n",
      "20655/20655 [==============================] - 1093s - loss: 0.2686 - val_loss: 0.2703\n",
      "Epoch 8/20\n",
      "20655/20655 [==============================] - 1044s - loss: 0.2829 - val_loss: 0.3045\n",
      "Epoch 9/20\n",
      "20655/20655 [==============================] - 1038s - loss: 0.2320 - val_loss: 0.2269\n",
      "Epoch 10/20\n",
      "20655/20655 [==============================] - 994s - loss: 0.2644 - val_loss: 0.2435\n",
      "Epoch 11/20\n",
      "20655/20655 [==============================] - 1010s - loss: 0.2466 - val_loss: 0.2670\n",
      "Epoch 12/20\n",
      "20655/20655 [==============================] - 988s - loss: 0.2559 - val_loss: 0.1945\n",
      "Epoch 13/20\n",
      "20655/20655 [==============================] - 1088s - loss: 0.1826 - val_loss: 0.1845\n",
      "Epoch 14/20\n",
      "20655/20655 [==============================] - 1048s - loss: 0.2040 - val_loss: 0.1647\n",
      "Epoch 15/20\n",
      "20655/20655 [==============================] - 1049s - loss: 0.1900 - val_loss: 0.1918\n",
      "Epoch 16/20\n",
      "20655/20655 [==============================] - 993s - loss: 0.4185 - val_loss: 0.2508\n",
      "Epoch 17/20\n",
      "20655/20655 [==============================] - 1018s - loss: 0.1563 - val_loss: 0.1288\n",
      "Epoch 18/20\n",
      "20655/20655 [==============================] - 1014s - loss: 0.1504 - val_loss: 0.1390\n",
      "Epoch 19/20\n",
      "20655/20655 [==============================] - 1178s - loss: 0.1513 - val_loss: 0.1779\n",
      "Epoch 20/20\n",
      "20655/20655 [==============================] - 1308s - loss: 0.1614 - val_loss: 0.1253\n",
      "------------------------trining model smallkernel, score 3.3091933691943134, using time 20713.746075868607 \n",
      "\n",
      "---------------------------training model RGB----------------------\n",
      "\n",
      "Train on 20655 samples, validate on 3645 samples\n",
      "Epoch 1/20\n",
      "20655/20655 [==============================] - 242s - loss: 9.0858 - val_loss: 2.9128\n",
      "Epoch 2/20\n",
      "20655/20655 [==============================] - 249s - loss: 1.7691 - val_loss: 1.1002\n",
      "Epoch 3/20\n",
      "20655/20655 [==============================] - 234s - loss: 0.7993 - val_loss: 0.6173\n",
      "Epoch 4/20\n",
      "20655/20655 [==============================] - 258s - loss: 0.5210 - val_loss: 0.5092\n",
      "Epoch 5/20\n",
      "20655/20655 [==============================] - 252s - loss: 0.4379 - val_loss: 0.5656\n",
      "Epoch 6/20\n",
      "20655/20655 [==============================] - 262s - loss: 0.3635 - val_loss: 0.3236\n",
      "Epoch 7/20\n",
      "20655/20655 [==============================] - 241s - loss: 0.3065 - val_loss: 0.2894\n",
      "Epoch 8/20\n",
      "20655/20655 [==============================] - 246s - loss: 0.2925 - val_loss: 0.2612\n",
      "Epoch 9/20\n",
      "20655/20655 [==============================] - 258s - loss: 0.2854 - val_loss: 0.2740\n",
      "Epoch 10/20\n",
      "20655/20655 [==============================] - 264s - loss: 0.2188 - val_loss: 0.2915\n",
      "Epoch 11/20\n",
      "20655/20655 [==============================] - 278s - loss: 0.2948 - val_loss: 0.3755\n",
      "Epoch 12/20\n",
      "20655/20655 [==============================] - 238s - loss: 0.2634 - val_loss: 0.2891\n",
      "Epoch 13/20\n",
      "20655/20655 [==============================] - 255s - loss: 0.2037 - val_loss: 0.2038\n",
      "Epoch 14/20\n",
      "20655/20655 [==============================] - 225s - loss: 0.1831 - val_loss: 0.2039\n",
      "Epoch 15/20\n",
      "20655/20655 [==============================] - 272s - loss: 0.1715 - val_loss: 0.2257\n",
      "Epoch 16/20\n",
      "20655/20655 [==============================] - 280s - loss: 0.2056 - val_loss: 0.2020\n",
      "Epoch 17/20\n",
      "20655/20655 [==============================] - 260s - loss: 0.1550 - val_loss: 0.3968\n",
      "Epoch 18/20\n",
      "20655/20655 [==============================] - 252s - loss: 0.1804 - val_loss: 0.1588\n",
      "Epoch 19/20\n",
      "20655/20655 [==============================] - 227s - loss: 0.1554 - val_loss: 0.1503\n",
      "Epoch 20/20\n",
      "20655/20655 [==============================] - 270s - loss: 0.1561 - val_loss: 0.1711\n",
      "------------------------trining model RGB, score 9.345003208584256, using time 5077.383208990097 \n",
      "\n"
     ]
    }
   ],
   "source": [
    "inputs_shape = X_train.shape\n",
    "\n",
    "model_names = ['basic','BN', 'pool','drop','smallkernel','RGB']\n",
    "models = [build_model(inputs_shape=inputs_shape),\n",
    "         build_model_BN(inputs_shape=inputs_shape),\n",
    "         build_model_pool(inputs_shape=inputs_shape),\n",
    "         build_model_drop(inputs_shape=inputs_shape),\n",
    "         build_model_small(inputs_shape=inputs_shape),\n",
    "         build_model(inputs_shape=inputs_shape)]\n",
    "\n",
    "train_histories=[]\n",
    "for model_name, model in zip(model_names, models):\n",
    "    filepath=\"./models/\"+model_name + \"{epoch:2d}_{val_loss:.3f}.h5\"\n",
    "    callbacks = [EarlyStopping(monitor='val_loss',patience=5),\n",
    "                 ModelCheckpoint(filepath, monitor='val_loss',save_best_only=False)]    \n",
    "    print(\"---------------------------training model {}----------------------\\n\".format(model_name))\n",
    "    if model_name!='RGB':\n",
    "#         if (not X_train.any()) or (not y_train):\n",
    "#             del X_trainRGB\n",
    "#             del y_trainRGB\n",
    "        \n",
    "#             h5f = h5py.File('data/train.h5','r')\n",
    "#             X_train = h5f['image'][:]\n",
    "#             y_train = h5f['steering'][:]\n",
    "#             h5f.close()\n",
    "\n",
    "        start_time = time.time()\n",
    "        his = model.fit(X_train, y_train,epochs=20,batch_size=64,validation_split=0.15,callbacks=callbacks,shuffle=\"batch\")\n",
    "        end_time = time.time()\n",
    "        score = model.evaluate(X_test, y_test, verbose=0)\n",
    "        print(\"------------------------trining model {}, score {}, using time {} \\n\".format(model_name,score,end_time-start_time))\n",
    "        train_histories.append(his)\n",
    "    else:\n",
    "#         if (not X_trainRGB) or (not y_trainRGB):\n",
    "        del X_train\n",
    "        del y_train\n",
    "\n",
    "        h5f = h5py.File('data/RGBtrain.h5','r')\n",
    "        X_trainRGB = h5f['image'][:]\n",
    "        y_trainRGB = h5f['steering'][:]\n",
    "        h5f.close()\n",
    "\n",
    "        h5f = h5py.File('data/RGBtest.h5','r')\n",
    "        X_testRGB = h5f['image'][:]\n",
    "        y_testRGB = h5f['steering'][:]\n",
    "        h5f.close()\n",
    "        \n",
    "        start_time = time.time()\n",
    "        his = model.fit(X_trainRGB, y_trainRGB,epochs=20,batch_size=64,validation_split=0.15,callbacks=callbacks,shuffle=\"batch\")\n",
    "        end_time = time.time()\n",
    "        score = model.evaluate(X_testRGB, y_testRGB, verbose=0)\n",
    "        print(\"------------------------trining model {}, score {}, using time {} \\n\".format(model_name,score,end_time-start_time))\n",
    "        train_histories.append(his)\n",
    "\n",
    "        "
   ]
  },
  {
   "cell_type": "code",
   "execution_count": 57,
   "metadata": {
    "ExecuteTime": {
     "end_time": "2017-12-24T14:03:27.110491Z",
     "start_time": "2017-12-24T14:03:26.901935Z"
    }
   },
   "outputs": [
    {
     "data": {
      "text/plain": [
       "6"
      ]
     },
     "execution_count": 57,
     "metadata": {},
     "output_type": "execute_result"
    }
   ],
   "source": [
    "len(train_histories)"
   ]
  },
  {
   "cell_type": "code",
   "execution_count": 58,
   "metadata": {
    "ExecuteTime": {
     "end_time": "2017-12-24T14:03:36.496980Z",
     "start_time": "2017-12-24T14:03:34.338129Z"
    }
   },
   "outputs": [
    {
     "name": "stdout",
     "output_type": "stream",
     "text": [
      "dict_keys(['val_loss', 'loss'])\n"
     ]
    }
   ],
   "source": [
    "\n",
    "# Visualize training history\n",
    "\n",
    "\n",
    "import matplotlib.pyplot as plt\n",
    "import numpy\n",
    "\n",
    "# history = model.fit(X, Y, validation_split=0.33, epochs=150, batch_size=10, verbose=0)\n",
    "# list all data in history\n",
    "print(train_histories[0].history.keys())\n"
   ]
  },
  {
   "cell_type": "code",
   "execution_count": 64,
   "metadata": {
    "ExecuteTime": {
     "end_time": "2017-12-24T14:09:55.531959Z",
     "start_time": "2017-12-24T14:09:55.519131Z"
    },
    "collapsed": true
   },
   "outputs": [
    {
     "data": {
      "text/plain": [
       "{'loss': [12.865852948892668,\n",
       "  2.1452265116903515,\n",
       "  0.81599241910965381,\n",
       "  0.50808101209420264,\n",
       "  0.41181428323528491,\n",
       "  0.35816607826473462,\n",
       "  0.30513564062678361,\n",
       "  0.28135196751700969,\n",
       "  0.29199657938405926,\n",
       "  0.22048272773086,\n",
       "  0.2206278509636013,\n",
       "  0.23613613018095567,\n",
       "  0.23893074859966235,\n",
       "  0.23075886265154008,\n",
       "  0.22087175293699993,\n",
       "  0.1529453416246965,\n",
       "  0.17875619289575492,\n",
       "  0.19493860894269904,\n",
       "  0.15132823939027351,\n",
       "  0.15052797779408417],\n",
       " 'val_loss': [4.2836828612496332,\n",
       "  1.1969487054848376,\n",
       "  0.6554765456007341,\n",
       "  0.48017196768922898,\n",
       "  0.41652746171127131,\n",
       "  0.27144998776405765,\n",
       "  0.26651854777532352,\n",
       "  0.47015520037446984,\n",
       "  0.23719617249380251,\n",
       "  0.21843116202472168,\n",
       "  0.28918603862264031,\n",
       "  0.18344750026207729,\n",
       "  0.19846771963666332,\n",
       "  0.30370058066151595,\n",
       "  0.18394786227795976,\n",
       "  0.15182830252683374,\n",
       "  0.31497174452361748,\n",
       "  0.1463180857757809,\n",
       "  0.17157865615129797,\n",
       "  0.19010438291951298]}"
      ]
     },
     "execution_count": 64,
     "metadata": {},
     "output_type": "execute_result"
    }
   ],
   "source": [
    "train_histories[0].history"
   ]
  },
  {
   "cell_type": "code",
   "execution_count": 61,
   "metadata": {
    "ExecuteTime": {
     "end_time": "2017-12-24T14:04:56.691716Z",
     "start_time": "2017-12-24T14:04:56.303346Z"
    }
   },
   "outputs": [
    {
     "data": {
      "image/png": "[encoded data removed]",
      "text/plain": [
       "<matplotlib.figure.Figure at 0x33bb92978>"
      ]
     },
     "metadata": {},
     "output_type": "display_data"
    }
   ],
   "source": [
    "# # summarize history for accuracy\n",
    "# plt.plot(history.history['acc'])\n",
    "# plt.plot(history.history['val_acc'])\n",
    "# plt.title('model accuracy')\n",
    "# plt.ylabel('accuracy')\n",
    "# plt.xlabel('epoch')\n",
    "# plt.legend(['train', 'test'], loc='upper left')\n",
    "# plt.show()\n",
    "# summarize history for loss\n",
    "plt.plot(train_histories[0].history['loss'])\n",
    "plt.plot(train_histories[0].history['val_loss'])\n",
    "plt.title('model loss')\n",
    "plt.ylabel('loss')\n",
    "plt.xlabel('epoch')\n",
    "plt.legend(['train', 'val'], loc='upper right')\n",
    "plt.show()\n"
   ]
  },
  {
   "cell_type": "code",
   "execution_count": null,
   "metadata": {},
   "outputs": [],
   "source": []
  },
  {
   "cell_type": "markdown",
   "metadata": {},
   "source": [
    "## Add Batch Normalization"
   ]
  },
  {
   "cell_type": "code",
   "execution_count": 2,
   "metadata": {
    "ExecuteTime": {
     "end_time": "2018-01-04T07:26:32.350717Z",
     "start_time": "2018-01-04T07:26:31.876578Z"
    }
   },
   "outputs": [],
   "source": [
    "def build_model_BN(inputs_shape=None, activation='relu', optimizer = 'adam', loss='mse'):\n",
    "    \n",
    "    image_input = Input(shape=inputs_shape[1:])\n",
    "    # use strided convolutions in the ﬁrst three convolutional layers with a 2×2 stride and a 5×5 kernel and \n",
    "    x = Conv2D(24,(5,5),strides=(2,2),padding='valid')(image_input)\n",
    "    x = BatchNormalization(axis=3)(x)\n",
    "    x = Activation(activation)(x)\n",
    "    x = Conv2D(36,(5,5),strides=(2,2),padding='valid')(x)\n",
    "    x = BatchNormalization(axis=3)(x)\n",
    "    x = Activation(activation)(x)\n",
    "#     x = MaxPooling2D((2,2))(x)\n",
    "    x = Conv2D(48,(5,5),strides=(2,2),padding='valid')(x)\n",
    "    x = BatchNormalization(axis=3)(x)\n",
    "    x = Activation(activation)(x)\n",
    "    \n",
    "    \n",
    "#     # a non-strided convolution with a 3×3 kernel size in the last two convolutional layers\n",
    "    x = Conv2D(64,(3,3),strides=(1,1),padding='valid')(x)\n",
    "    x = BatchNormalization(axis=3)(x)\n",
    "    x = Activation(activation)(x)\n",
    "#     x = MaxPooling2D((2,2))(x)\n",
    "    x = Conv2D(64,(3,3),strides=(1,1),padding='valid')(x)\n",
    "    x = BatchNormalization(axis=3)(x)\n",
    "    x = Activation(activation)(x)\n",
    "    \n",
    "    x = Flatten()(x)\n",
    "    x = Dense(100)(x)\n",
    "    x = BatchNormalization(axis=-1)(x)\n",
    "    x = Activation(activation)(x)\n",
    "    \n",
    "    x = Dense(50)(x)\n",
    "    x = BatchNormalization(axis=-1)(x)\n",
    "    x = Activation(activation)(x)\n",
    "    \n",
    "    x = Dense(10)(x)\n",
    "    x = BatchNormalization(axis=-1)(x)\n",
    "    x = Activation(activation)(x)\n",
    "    \n",
    "    out = Dense(1)(x)\n",
    "    \n",
    "    model = Model(inputs=image_input, outputs=out)\n",
    "    model.compile(optimizer=optimizer, loss =loss)\n",
    "    \n",
    "    return model\n"
   ]
  },
  {
   "cell_type": "code",
   "execution_count": 4,
   "metadata": {
    "ExecuteTime": {
     "end_time": "2018-01-04T07:26:45.026011Z",
     "start_time": "2018-01-04T07:26:44.119491Z"
    },
    "scrolled": false
   },
   "outputs": [
    {
     "name": "stdout",
     "output_type": "stream",
     "text": [
      "_________________________________________________________________\n",
      "Layer (type)                 Output Shape              Param #   \n",
      "=================================================================\n",
      "input_1 (InputLayer)         (None, 66, 200, 3)        0         \n",
      "_________________________________________________________________\n",
      "conv2d_1 (Conv2D)            (None, 31, 98, 24)        1824      \n",
      "_________________________________________________________________\n",
      "batch_normalization_1 (Batch (None, 31, 98, 24)        96        \n",
      "_________________________________________________________________\n",
      "activation_1 (Activation)    (None, 31, 98, 24)        0         \n",
      "_________________________________________________________________\n",
      "conv2d_2 (Conv2D)            (None, 14, 47, 36)        21636     \n",
      "_________________________________________________________________\n",
      "batch_normalization_2 (Batch (None, 14, 47, 36)        144       \n",
      "_________________________________________________________________\n",
      "activation_2 (Activation)    (None, 14, 47, 36)        0         \n",
      "_________________________________________________________________\n",
      "conv2d_3 (Conv2D)            (None, 5, 22, 48)         43248     \n",
      "_________________________________________________________________\n",
      "batch_normalization_3 (Batch (None, 5, 22, 48)         192       \n",
      "_________________________________________________________________\n",
      "activation_3 (Activation)    (None, 5, 22, 48)         0         \n",
      "_________________________________________________________________\n",
      "conv2d_4 (Conv2D)            (None, 3, 20, 64)         27712     \n",
      "_________________________________________________________________\n",
      "batch_normalization_4 (Batch (None, 3, 20, 64)         256       \n",
      "_________________________________________________________________\n",
      "activation_4 (Activation)    (None, 3, 20, 64)         0         \n",
      "_________________________________________________________________\n",
      "conv2d_5 (Conv2D)            (None, 1, 18, 64)         36928     \n",
      "_________________________________________________________________\n",
      "batch_normalization_5 (Batch (None, 1, 18, 64)         256       \n",
      "_________________________________________________________________\n",
      "activation_5 (Activation)    (None, 1, 18, 64)         0         \n",
      "_________________________________________________________________\n",
      "flatten_1 (Flatten)          (None, 1152)              0         \n",
      "_________________________________________________________________\n",
      "dense_1 (Dense)              (None, 100)               115300    \n",
      "_________________________________________________________________\n",
      "batch_normalization_6 (Batch (None, 100)               400       \n",
      "_________________________________________________________________\n",
      "activation_6 (Activation)    (None, 100)               0         \n",
      "_________________________________________________________________\n",
      "dense_2 (Dense)              (None, 50)                5050      \n",
      "_________________________________________________________________\n",
      "batch_normalization_7 (Batch (None, 50)                200       \n",
      "_________________________________________________________________\n",
      "activation_7 (Activation)    (None, 50)                0         \n",
      "_________________________________________________________________\n",
      "dense_3 (Dense)              (None, 10)                510       \n",
      "_________________________________________________________________\n",
      "batch_normalization_8 (Batch (None, 10)                40        \n",
      "_________________________________________________________________\n",
      "activation_8 (Activation)    (None, 10)                0         \n",
      "_________________________________________________________________\n",
      "dense_4 (Dense)              (None, 1)                 11        \n",
      "=================================================================\n",
      "Total params: 253,803\n",
      "Trainable params: 253,011\n",
      "Non-trainable params: 792\n",
      "_________________________________________________________________\n"
     ]
    }
   ],
   "source": [
    "K.clear_session()\n",
    "\n",
    "# model = build_model(inputs_shape=X_train.shape)\n",
    "model = build_model_BN(inputs_shape=(24300, 66, 200, 3))\n",
    "model.summary()  "
   ]
  },
  {
   "cell_type": "markdown",
   "metadata": {},
   "source": [
    "## Using stride=1 and max pooling"
   ]
  },
  {
   "cell_type": "code",
   "execution_count": 10,
   "metadata": {
    "ExecuteTime": {
     "end_time": "2017-12-30T12:01:11.387766Z",
     "start_time": "2017-12-30T12:01:11.318538Z"
    }
   },
   "outputs": [],
   "source": [
    "def build_model_pool(inputs_shape=None, activation='relu', optimizer = 'adam', loss='mse'):\n",
    "    \n",
    "    image_input = Input(shape=inputs_shape[1:])\n",
    "    # use strided convolutions in the ﬁrst three convolutional layers with a 2×2 stride and a 5×5 kernel and \n",
    "    x = Conv2D(24,(5,5),strides=(1,1),activation='relu',padding='same')(image_input)\n",
    "    x = MaxPooling2D((2,2))(x)    \n",
    "    x = Conv2D(36,(5,5),strides=(1,1),activation='relu',padding='same')(x)\n",
    "    x = MaxPooling2D((2,2))(x)\n",
    "    x = Conv2D(48,(5,5),strides=(1,1),activation='relu',padding='valid')(x)\n",
    "    x = MaxPooling2D((2,2))(x)\n",
    "    \n",
    "    \n",
    "#     # a non-strided convolution with a 3×3 kernel size in the last two convolutional layers\n",
    "    x = Conv2D(64,(3,3),strides=(1,1),activation='relu',padding='valid')(x)\n",
    "    x = Conv2D(64,(3,3),strides=(1,1),activation='relu',padding='valid')(x)\n",
    "    x = Flatten()(x)\n",
    "    x = Dense(100,activation='relu')(x)\n",
    "    x = Dense(50,activation='relu')(x)\n",
    "    x = Dense(10,activation='relu')(x)\n",
    "    out = Dense(1)(x)\n",
    "    \n",
    "    model = Model(inputs=image_input, outputs=out)\n",
    "    model.compile(optimizer=optimizer, loss =loss)\n",
    "    \n",
    "    return model"
   ]
  },
  {
   "cell_type": "code",
   "execution_count": 50,
   "metadata": {
    "ExecuteTime": {
     "end_time": "2017-12-23T16:25:39.429426Z",
     "start_time": "2017-12-23T16:25:39.055551Z"
    }
   },
   "outputs": [
    {
     "name": "stdout",
     "output_type": "stream",
     "text": [
      "_________________________________________________________________\n",
      "Layer (type)                 Output Shape              Param #   \n",
      "=================================================================\n",
      "input_1 (InputLayer)         (None, 66, 200, 3)        0         \n",
      "_________________________________________________________________\n",
      "conv2d_1 (Conv2D)            (None, 66, 200, 24)       1824      \n",
      "_________________________________________________________________\n",
      "max_pooling2d_1 (MaxPooling2 (None, 33, 100, 24)       0         \n",
      "_________________________________________________________________\n",
      "conv2d_2 (Conv2D)            (None, 33, 100, 36)       21636     \n",
      "_________________________________________________________________\n",
      "max_pooling2d_2 (MaxPooling2 (None, 16, 50, 36)        0         \n",
      "_________________________________________________________________\n",
      "conv2d_3 (Conv2D)            (None, 12, 46, 48)        43248     \n",
      "_________________________________________________________________\n",
      "max_pooling2d_3 (MaxPooling2 (None, 6, 23, 48)         0         \n",
      "_________________________________________________________________\n",
      "conv2d_4 (Conv2D)            (None, 4, 21, 64)         27712     \n",
      "_________________________________________________________________\n",
      "conv2d_5 (Conv2D)            (None, 2, 19, 64)         36928     \n",
      "_________________________________________________________________\n",
      "flatten_1 (Flatten)          (None, 2432)              0         \n",
      "_________________________________________________________________\n",
      "dense_1 (Dense)              (None, 100)               243300    \n",
      "_________________________________________________________________\n",
      "dense_2 (Dense)              (None, 50)                5050      \n",
      "_________________________________________________________________\n",
      "dense_3 (Dense)              (None, 10)                510       \n",
      "_________________________________________________________________\n",
      "dense_4 (Dense)              (None, 1)                 11        \n",
      "=================================================================\n",
      "Total params: 380,219\n",
      "Trainable params: 380,219\n",
      "Non-trainable params: 0\n",
      "_________________________________________________________________\n"
     ]
    }
   ],
   "source": [
    "K.clear_session()\n",
    "\n",
    "model = build_model_pool(inputs_shape=X_train.shape)\n",
    "model.summary()  "
   ]
  },
  {
   "cell_type": "markdown",
   "metadata": {},
   "source": [
    "## Add Dropout"
   ]
  },
  {
   "cell_type": "code",
   "execution_count": 25,
   "metadata": {
    "ExecuteTime": {
     "end_time": "2017-12-23T15:18:32.841578Z",
     "start_time": "2017-12-23T15:18:32.764294Z"
    }
   },
   "outputs": [],
   "source": [
    "def build_model_drop(inputs_shape=None, activation='relu', optimizer = 'adam', loss='mse'):\n",
    "    \n",
    "    image_input = Input(shape=inputs_shape[1:])\n",
    "    # use strided convolutions in the ﬁrst three convolutional layers with a 2×2 stride and a 5×5 kernel and \n",
    "    x = Conv2D(24,(5,5),strides=(2,2),activation='relu',padding='valid')(image_input)\n",
    "    x = Conv2D(36,(5,5),strides=(2,2),activation='relu',padding='valid')(x)\n",
    "    x = Conv2D(48,(5,5),strides=(2,2),activation='relu',padding='valid')(x)\n",
    "    x = Dropout(0.2)(x)\n",
    "    \n",
    "    \n",
    "#     # a non-strided convolution with a 3×3 kernel size in the last two convolutional layers\n",
    "    x = Conv2D(64,(3,3),strides=(1,1),activation='relu',padding='valid')(x)\n",
    "    x = Conv2D(64,(3,3),strides=(1,1),activation='relu',padding='valid')(x)\n",
    "    x = Dropout(0.2)(x)\n",
    "    \n",
    "    x = Flatten()(x)\n",
    "    x = Dense(100,activation='relu')(x)\n",
    "    x = Dropout(0.2)(x)\n",
    "    x = Dense(50,activation='relu')(x)\n",
    "    x = Dense(10,activation='relu')(x)\n",
    "    out = Dense(1)(x)\n",
    "    \n",
    "    model = Model(inputs=image_input, outputs=out)\n",
    "    model.compile(optimizer=optimizer, loss =loss)\n",
    "    \n",
    "    return model"
   ]
  },
  {
   "cell_type": "code",
   "execution_count": 26,
   "metadata": {
    "ExecuteTime": {
     "end_time": "2017-12-23T15:18:40.403986Z",
     "start_time": "2017-12-23T15:18:39.978277Z"
    },
    "scrolled": false
   },
   "outputs": [
    {
     "name": "stdout",
     "output_type": "stream",
     "text": [
      "_________________________________________________________________\n",
      "Layer (type)                 Output Shape              Param #   \n",
      "=================================================================\n",
      "input_1 (InputLayer)         (None, 66, 200, 3)        0         \n",
      "_________________________________________________________________\n",
      "conv2d_1 (Conv2D)            (None, 31, 98, 24)        1824      \n",
      "_________________________________________________________________\n",
      "conv2d_2 (Conv2D)            (None, 14, 47, 36)        21636     \n",
      "_________________________________________________________________\n",
      "conv2d_3 (Conv2D)            (None, 5, 22, 48)         43248     \n",
      "_________________________________________________________________\n",
      "dropout_1 (Dropout)          (None, 5, 22, 48)         0         \n",
      "_________________________________________________________________\n",
      "conv2d_4 (Conv2D)            (None, 3, 20, 64)         27712     \n",
      "_________________________________________________________________\n",
      "conv2d_5 (Conv2D)            (None, 1, 18, 64)         36928     \n",
      "_________________________________________________________________\n",
      "dropout_2 (Dropout)          (None, 1, 18, 64)         0         \n",
      "_________________________________________________________________\n",
      "flatten_1 (Flatten)          (None, 1152)              0         \n",
      "_________________________________________________________________\n",
      "dense_1 (Dense)              (None, 100)               115300    \n",
      "_________________________________________________________________\n",
      "dropout_3 (Dropout)          (None, 100)               0         \n",
      "_________________________________________________________________\n",
      "dense_2 (Dense)              (None, 50)                5050      \n",
      "_________________________________________________________________\n",
      "dense_3 (Dense)              (None, 10)                510       \n",
      "_________________________________________________________________\n",
      "dense_4 (Dense)              (None, 1)                 11        \n",
      "=================================================================\n",
      "Total params: 252,219\n",
      "Trainable params: 252,219\n",
      "Non-trainable params: 0\n",
      "_________________________________________________________________\n"
     ]
    }
   ],
   "source": [
    "K.clear_session()\n",
    "\n",
    "model = build_model_drop(inputs_shape=X_train.shape)\n",
    "model.summary()  "
   ]
  },
  {
   "cell_type": "markdown",
   "metadata": {},
   "source": [
    "## 2\\*(3\\*3)conv -> (5\\*5) conv"
   ]
  },
  {
   "cell_type": "code",
   "execution_count": 33,
   "metadata": {
    "ExecuteTime": {
     "end_time": "2017-12-23T15:22:10.025630Z",
     "start_time": "2017-12-23T15:22:09.910771Z"
    }
   },
   "outputs": [],
   "source": [
    "def build_model_small(inputs_shape=None, activation='relu', optimizer = 'adam', loss='mse'):\n",
    "    \n",
    "    image_input = Input(shape=inputs_shape[1:])\n",
    "    # use strided convolutions in the ﬁrst three convolutional layers with a 2×2 stride and a 5×5 kernel and \n",
    "    x = Conv2D(24,(3,3),strides=(1,1),activation='relu',padding='valid')(image_input)\n",
    "    x = Conv2D(24,(3,3),strides=(1,1),activation='relu',padding='same')(x)\n",
    "    x = MaxPooling2D((2,2))(x)    \n",
    "    x = Conv2D(36,(3,3),strides=(1,1),activation='relu',padding='valid')(x)\n",
    "    x = Conv2D(36,(3,3),strides=(1,1),activation='relu',padding='same')(x)\n",
    "    x = MaxPooling2D((2,2))(x)\n",
    "    x = Conv2D(48,(3,3),strides=(1,1),activation='relu',padding='valid')(x)\n",
    "    x = Conv2D(48,(3,3),strides=(1,1),activation='relu',padding='same')(x)\n",
    "    x = MaxPooling2D((2,2))(x)\n",
    "    \n",
    "    \n",
    "    # a non-strided convolution with a 3×3 kernel size in the last two convolutional layers\n",
    "    x = Conv2D(64,(3,3),strides=(1,1),activation='relu',padding='valid')(x)\n",
    "    x = Conv2D(64,(3,3),strides=(1,1),activation='relu',padding='valid')(x)\n",
    "    x = Flatten()(x)\n",
    "    x = Dense(100,activation='relu')(x)\n",
    "    x = Dense(50,activation='relu')(x)\n",
    "    x = Dense(10,activation='relu')(x)\n",
    "    out = Dense(1)(x)\n",
    "    \n",
    "    model = Model(inputs=image_input, outputs=out)\n",
    "    model.compile(optimizer=optimizer, loss =loss)\n",
    "    \n",
    "    return model"
   ]
  },
  {
   "cell_type": "code",
   "execution_count": 34,
   "metadata": {
    "ExecuteTime": {
     "end_time": "2017-12-23T15:22:10.937149Z",
     "start_time": "2017-12-23T15:22:10.530518Z"
    },
    "scrolled": true
   },
   "outputs": [
    {
     "name": "stdout",
     "output_type": "stream",
     "text": [
      "_________________________________________________________________\n",
      "Layer (type)                 Output Shape              Param #   \n",
      "=================================================================\n",
      "input_1 (InputLayer)         (None, 66, 200, 3)        0         \n",
      "_________________________________________________________________\n",
      "conv2d_1 (Conv2D)            (None, 64, 198, 24)       672       \n",
      "_________________________________________________________________\n",
      "conv2d_2 (Conv2D)            (None, 64, 198, 24)       5208      \n",
      "_________________________________________________________________\n",
      "max_pooling2d_1 (MaxPooling2 (None, 32, 99, 24)        0         \n",
      "_________________________________________________________________\n",
      "conv2d_3 (Conv2D)            (None, 30, 97, 36)        7812      \n",
      "_________________________________________________________________\n",
      "conv2d_4 (Conv2D)            (None, 30, 97, 36)        11700     \n",
      "_________________________________________________________________\n",
      "max_pooling2d_2 (MaxPooling2 (None, 15, 48, 36)        0         \n",
      "_________________________________________________________________\n",
      "conv2d_5 (Conv2D)            (None, 13, 46, 48)        15600     \n",
      "_________________________________________________________________\n",
      "conv2d_6 (Conv2D)            (None, 13, 46, 48)        20784     \n",
      "_________________________________________________________________\n",
      "max_pooling2d_3 (MaxPooling2 (None, 6, 23, 48)         0         \n",
      "_________________________________________________________________\n",
      "conv2d_7 (Conv2D)            (None, 4, 21, 64)         27712     \n",
      "_________________________________________________________________\n",
      "conv2d_8 (Conv2D)            (None, 2, 19, 64)         36928     \n",
      "_________________________________________________________________\n",
      "flatten_1 (Flatten)          (None, 2432)              0         \n",
      "_________________________________________________________________\n",
      "dense_1 (Dense)              (None, 100)               243300    \n",
      "_________________________________________________________________\n",
      "dense_2 (Dense)              (None, 50)                5050      \n",
      "_________________________________________________________________\n",
      "dense_3 (Dense)              (None, 10)                510       \n",
      "_________________________________________________________________\n",
      "dense_4 (Dense)              (None, 1)                 11        \n",
      "=================================================================\n",
      "Total params: 375,287\n",
      "Trainable params: 375,287\n",
      "Non-trainable params: 0\n",
      "_________________________________________________________________\n"
     ]
    }
   ],
   "source": [
    "K.clear_session()\n",
    "\n",
    "model = build_model_small(inputs_shape=X_train.shape)\n",
    "model.summary() "
   ]
  },
  {
   "cell_type": "code",
   "execution_count": null,
   "metadata": {},
   "outputs": [],
   "source": []
  },
  {
   "cell_type": "code",
   "execution_count": null,
   "metadata": {},
   "outputs": [],
   "source": []
  },
  {
   "cell_type": "markdown",
   "metadata": {},
   "source": [
    "## Inception block"
   ]
  },
  {
   "cell_type": "markdown",
   "metadata": {},
   "source": [
    "## conv -> fc   "
   ]
  },
  {
   "cell_type": "code",
   "execution_count": null,
   "metadata": {},
   "outputs": [],
   "source": []
  },
  {
   "cell_type": "code",
   "execution_count": null,
   "metadata": {},
   "outputs": [],
   "source": []
  },
  {
   "cell_type": "code",
   "execution_count": null,
   "metadata": {},
   "outputs": [],
   "source": [
    "# list all data in history\n",
    "print(history.history.keys())\n",
    "# summarize history for accuracy\n",
    "plt.plot(history.history['acc'])\n",
    "plt.plot(history.history['val_acc'])\n",
    "plt.title('model accuracy')\n",
    "plt.ylabel('accuracy')\n",
    "plt.xlabel('epoch')\n",
    "plt.legend(['train', 'test'], loc='upper left')\n",
    "plt.show()\n",
    "# summarize history for loss\n",
    "plt.plot(history.history['loss'])\n",
    "plt.plot(history.history['val_loss'])\n",
    "plt.title('model loss')\n",
    "plt.ylabel('loss')\n",
    "plt.xlabel('epoch')\n",
    "plt.legend(['train', 'test'], loc='upper left')\n",
    "plt.show()"
   ]
  },
  {
   "cell_type": "code",
   "execution_count": null,
   "metadata": {},
   "outputs": [],
   "source": []
  },
  {
   "cell_type": "markdown",
   "metadata": {},
   "source": [
    "# Refine basic model+ dropout+BN"
   ]
  },
  {
   "cell_type": "markdown",
   "metadata": {},
   "source": [
    "## Grid Search"
   ]
  },
  {
   "cell_type": "markdown",
   "metadata": {},
   "source": [
    "考虑到计算资源有限，对模型先进行超参数网格搜索调优，缩小范围后再进行随机搜索调优。    \n",
    "调优参数: \n",
    "* dropout rate：(0.1, 0.2, 0.3)\n",
    "* learning rate：(0.001，0.01，0.05)，\n",
    "Train epoch number: 30; Early stop: 5 epoch.   \n",
    "(0.3, 0.001)和(0.3, 0.01)两组参数的模型效果在所有结果中是最好。测试集上的均方差值分别为2.05和2.08。   \n"
   ]
  },
  {
   "cell_type": "code",
   "execution_count": 1,
   "metadata": {
    "ExecuteTime": {
     "end_time": "2017-12-30T13:37:47.573054Z",
     "start_time": "2017-12-30T13:37:28.004610Z"
    }
   },
   "outputs": [
    {
     "name": "stderr",
     "output_type": "stream",
     "text": [
      "Using TensorFlow backend.\n"
     ]
    }
   ],
   "source": [
    "from keras.callbacks import EarlyStopping,CSVLogger,ModelCheckpoint\n",
    "import itertools\n",
    "from keras.layers import Input,Dense,Activation,Flatten\n",
    "from keras.layers import Conv2D,Dropout\n",
    "from keras.layers.normalization import BatchNormalization\n",
    "from keras.optimizers import Adam\n",
    "from keras.models import Model\n",
    "import h5py\n",
    "from keras import backend as K\n",
    "\n",
    "# ---------------------------build model--------------------\n",
    "def build_model(inputs_shape=None, activation='relu', dropout=0.2, learning_rate=0.001, loss='mse'):\n",
    "    \n",
    "    optimizer = Adam(lr=learning_rate, beta_1=0.9, beta_2=0.999, epsilon=1e-08, decay=0.0)\n",
    "    \n",
    "    image_input = Input(shape=inputs_shape[1:])\n",
    "    # use strided convolutions in the ﬁrst three convolutional layers with a 2×2 stride and a 5×5 kernel and \n",
    "    x = Conv2D(24,(5,5),strides=(2,2),padding='valid')(image_input)\n",
    "    x = BatchNormalization(axis=3)(x)\n",
    "    x = Activation(activation)(x)\n",
    "    \n",
    "    x = Conv2D(36,(5,5),strides=(2,2),padding='valid')(x)\n",
    "    x = BatchNormalization(axis=3)(x)\n",
    "    x = Activation(activation)(x)\n",
    "    \n",
    "    x = Conv2D(48,(5,5),strides=(2,2),padding='valid')(x)\n",
    "    x = BatchNormalization(axis=3)(x)\n",
    "    x = Activation(activation)(x)\n",
    "    x = Dropout(dropout)(x)\n",
    "    \n",
    "    \n",
    "#     # a non-strided convolution with a 3×3 kernel size in the last two convolutional layers\n",
    "    x = Conv2D(64,(3,3),strides=(1,1),padding='valid')(x)\n",
    "    x = BatchNormalization(axis=3)(x)\n",
    "    x = Activation(activation)(x)\n",
    "\n",
    "    x = Conv2D(64,(3,3),strides=(1,1),activation='relu',padding='valid')(x)\n",
    "    x = BatchNormalization(axis=3)(x)\n",
    "    x = Activation(activation)(x)\n",
    "    x = Dropout(dropout)(x)\n",
    "    \n",
    "    x = Flatten()(x)\n",
    "    x = Dense(100)(x)\n",
    "    x = BatchNormalization(axis=-1)(x)\n",
    "    x = Activation(activation)(x)\n",
    "    x = Dropout(dropout)(x)\n",
    "    \n",
    "    x = Dense(50)(x)\n",
    "    x = BatchNormalization(axis=-1)(x)\n",
    "    x = Activation(activation)(x)\n",
    "    \n",
    "    x = Dense(10)(x)\n",
    "    x = BatchNormalization(axis=-1)(x)\n",
    "    x = Activation(activation)(x)\n",
    "    \n",
    "    out = Dense(1)(x)\n",
    "    \n",
    "    model = Model(inputs=image_input, outputs=out)\n",
    "    \n",
    "    model.compile(optimizer=optimizer, loss =loss)\n",
    "    \n",
    "    return model\n",
    "\n"
   ]
  },
  {
   "cell_type": "code",
   "execution_count": 2,
   "metadata": {
    "ExecuteTime": {
     "end_time": "2017-12-30T13:38:35.481174Z",
     "start_time": "2017-12-30T13:38:34.466100Z"
    },
    "scrolled": false
   },
   "outputs": [
    {
     "name": "stdout",
     "output_type": "stream",
     "text": [
      "_________________________________________________________________\n",
      "Layer (type)                 Output Shape              Param #   \n",
      "=================================================================\n",
      "input_1 (InputLayer)         (None, 66, 200, 3)        0         \n",
      "_________________________________________________________________\n",
      "conv2d_1 (Conv2D)            (None, 31, 98, 24)        1824      \n",
      "_________________________________________________________________\n",
      "batch_normalization_1 (Batch (None, 31, 98, 24)        96        \n",
      "_________________________________________________________________\n",
      "activation_1 (Activation)    (None, 31, 98, 24)        0         \n",
      "_________________________________________________________________\n",
      "conv2d_2 (Conv2D)            (None, 14, 47, 36)        21636     \n",
      "_________________________________________________________________\n",
      "batch_normalization_2 (Batch (None, 14, 47, 36)        144       \n",
      "_________________________________________________________________\n",
      "activation_2 (Activation)    (None, 14, 47, 36)        0         \n",
      "_________________________________________________________________\n",
      "conv2d_3 (Conv2D)            (None, 5, 22, 48)         43248     \n",
      "_________________________________________________________________\n",
      "batch_normalization_3 (Batch (None, 5, 22, 48)         192       \n",
      "_________________________________________________________________\n",
      "activation_3 (Activation)    (None, 5, 22, 48)         0         \n",
      "_________________________________________________________________\n",
      "dropout_1 (Dropout)          (None, 5, 22, 48)         0         \n",
      "_________________________________________________________________\n",
      "conv2d_4 (Conv2D)            (None, 3, 20, 64)         27712     \n",
      "_________________________________________________________________\n",
      "batch_normalization_4 (Batch (None, 3, 20, 64)         256       \n",
      "_________________________________________________________________\n",
      "activation_4 (Activation)    (None, 3, 20, 64)         0         \n",
      "_________________________________________________________________\n",
      "conv2d_5 (Conv2D)            (None, 1, 18, 64)         36928     \n",
      "_________________________________________________________________\n",
      "batch_normalization_5 (Batch (None, 1, 18, 64)         256       \n",
      "_________________________________________________________________\n",
      "activation_5 (Activation)    (None, 1, 18, 64)         0         \n",
      "_________________________________________________________________\n",
      "dropout_2 (Dropout)          (None, 1, 18, 64)         0         \n",
      "_________________________________________________________________\n",
      "flatten_1 (Flatten)          (None, 1152)              0         \n",
      "_________________________________________________________________\n",
      "dense_1 (Dense)              (None, 100)               115300    \n",
      "_________________________________________________________________\n",
      "batch_normalization_6 (Batch (None, 100)               400       \n",
      "_________________________________________________________________\n",
      "activation_6 (Activation)    (None, 100)               0         \n",
      "_________________________________________________________________\n",
      "dropout_3 (Dropout)          (None, 100)               0         \n",
      "_________________________________________________________________\n",
      "dense_2 (Dense)              (None, 50)                5050      \n",
      "_________________________________________________________________\n",
      "batch_normalization_7 (Batch (None, 50)                200       \n",
      "_________________________________________________________________\n",
      "activation_7 (Activation)    (None, 50)                0         \n",
      "_________________________________________________________________\n",
      "dense_3 (Dense)              (None, 10)                510       \n",
      "_________________________________________________________________\n",
      "batch_normalization_8 (Batch (None, 10)                40        \n",
      "_________________________________________________________________\n",
      "activation_8 (Activation)    (None, 10)                0         \n",
      "_________________________________________________________________\n",
      "dense_4 (Dense)              (None, 1)                 11        \n",
      "=================================================================\n",
      "Total params: 253,803\n",
      "Trainable params: 253,011\n",
      "Non-trainable params: 792\n",
      "_________________________________________________________________\n"
     ]
    }
   ],
   "source": [
    "#  model = build_model(inputs_shape=X_train.shape, dropout=p[0], learning_rate=p[1])\n",
    "    \n",
    "K.clear_session()\n",
    "\n",
    "# model = build_model(inputs_shape=X_train.shape)\n",
    "model = build_model(inputs_shape=(24300, 66, 200, 3))\n",
    "model.summary()  "
   ]
  },
  {
   "cell_type": "code",
   "execution_count": 11,
   "metadata": {
    "ExecuteTime": {
     "end_time": "2017-12-26T04:05:22.029631Z",
     "start_time": "2017-12-26T04:05:22.015866Z"
    }
   },
   "outputs": [],
   "source": [
    "# optimizers = ['adam','rmsprop']\n",
    "# activations = ['PReLU','relu','LeakyReLU']\n",
    "# activations_ps = ['relu']\n",
    "dropouts = [0.1,0.2,0.3]\n",
    "learning_rates = [0.001, 0.01, 0.05]\n",
    "parameters = itertools.product(dropouts,learning_rates)\n",
    "\n"
   ]
  },
  {
   "cell_type": "code",
   "execution_count": null,
   "metadata": {},
   "outputs": [],
   "source": [
    "\n",
    "# filepath=\"./models/basicBNdrop_{epoch:03d}:{val_loss:.3f}.h5\"\n",
    "# callbacks = [EarlyStopping(monitor='val_loss',patience=5)\n",
    "#              ,ModelCheckpoint(filepath, monitor='val_loss',save_best_only=True)]     \n"
   ]
  },
  {
   "cell_type": "code",
   "execution_count": 14,
   "metadata": {
    "ExecuteTime": {
     "end_time": "2017-12-25T14:15:35.268846Z",
     "start_time": "2017-12-25T13:31:23.593176Z"
    }
   },
   "outputs": [
    {
     "name": "stdout",
     "output_type": "stream",
     "text": [
      "****************************************************************************************************\n",
      "using parameters: (0.1, 0.05)\n",
      "\n",
      "Train on 44270 samples, validate on 2330 samples\n",
      "Epoch 1/1\n",
      "44270/44270 [==============================] - 801s - loss: 10.7804 - val_loss: 25.9898\n",
      "2700/2700 [==============================] - 21s    \n",
      "test score: 8.01518350319 with (0.1, 0.05) \n",
      " \n",
      " \n",
      "****************************************************************************************************\n",
      "using parameters: (0.2, 0.001)\n",
      "\n",
      "Train on 44270 samples, validate on 2330 samples\n",
      "Epoch 1/1\n",
      "44270/44270 [==============================] - 766s - loss: 9.4114 - val_loss: 9.2264\n",
      "2700/2700 [==============================] - 21s    \n",
      "test score: 2.93338235502 with (0.2, 0.001) \n",
      " \n",
      " \n",
      "****************************************************************************************************\n",
      "using parameters: (0.2, 0.01)\n",
      "\n",
      "Train on 44270 samples, validate on 2330 samples\n",
      "Epoch 1/1\n",
      "44270/44270 [==============================] - 799s - loss: 9.6839 - val_loss: 23.7399\n",
      "2700/2700 [==============================] - 22s    \n",
      "test score: 8.58764126071 with (0.2, 0.01) \n",
      " \n",
      " \n",
      "****************************************************************************************************\n",
      "using parameters: (0.2, 0.05)\n",
      "\n",
      "Train on 44270 samples, validate on 2330 samples\n",
      "Epoch 1/1\n",
      "11328/44270 [======>.......................] - ETA: 539s - loss: 19.0437"
     ]
    },
    {
     "ename": "KeyboardInterrupt",
     "evalue": "",
     "output_type": "error",
     "traceback": [
      "\u001b[0;31m---------------------------------------------------------------------------\u001b[0m",
      "\u001b[0;31mKeyboardInterrupt\u001b[0m                         Traceback (most recent call last)",
      "\u001b[0;32m<ipython-input-14-346dc917b4f7>\u001b[0m in \u001b[0;36m<module>\u001b[0;34m()\u001b[0m\n\u001b[1;32m      4\u001b[0m     \u001b[0mprint\u001b[0m\u001b[0;34m(\u001b[0m\u001b[0;34m'*'\u001b[0m\u001b[0;34m*\u001b[0m\u001b[0;36m100\u001b[0m\u001b[0;34m)\u001b[0m\u001b[0;34m\u001b[0m\u001b[0m\n\u001b[1;32m      5\u001b[0m     \u001b[0mprint\u001b[0m\u001b[0;34m(\u001b[0m\u001b[0;34m'using parameters: '\u001b[0m\u001b[0;34m+\u001b[0m\u001b[0mstr\u001b[0m\u001b[0;34m(\u001b[0m\u001b[0mp\u001b[0m\u001b[0;34m)\u001b[0m\u001b[0;34m+\u001b[0m\u001b[0;34m'\\n'\u001b[0m\u001b[0;34m)\u001b[0m\u001b[0;34m\u001b[0m\u001b[0m\n\u001b[0;32m----> 6\u001b[0;31m     \u001b[0mmodel\u001b[0m\u001b[0;34m.\u001b[0m\u001b[0mfit\u001b[0m\u001b[0;34m(\u001b[0m\u001b[0mX_train\u001b[0m\u001b[0;34m,\u001b[0m \u001b[0my_train\u001b[0m\u001b[0;34m,\u001b[0m \u001b[0mepochs\u001b[0m\u001b[0;34m=\u001b[0m\u001b[0;36m1\u001b[0m\u001b[0;34m,\u001b[0m \u001b[0mbatch_size\u001b[0m\u001b[0;34m=\u001b[0m\u001b[0;36m64\u001b[0m\u001b[0;34m,\u001b[0m \u001b[0mvalidation_split\u001b[0m\u001b[0;34m=\u001b[0m\u001b[0;36m0.05\u001b[0m\u001b[0;34m,\u001b[0m \u001b[0mcallbacks\u001b[0m\u001b[0;34m=\u001b[0m\u001b[0mcallbacks\u001b[0m\u001b[0;34m,\u001b[0m \u001b[0mshuffle\u001b[0m\u001b[0;34m=\u001b[0m\u001b[0;34m\"batch\"\u001b[0m\u001b[0;34m)\u001b[0m\u001b[0;34m\u001b[0m\u001b[0m\n\u001b[0m\u001b[1;32m      7\u001b[0m     \u001b[0mscore\u001b[0m \u001b[0;34m=\u001b[0m \u001b[0mmodel\u001b[0m\u001b[0;34m.\u001b[0m\u001b[0mevaluate\u001b[0m\u001b[0;34m(\u001b[0m\u001b[0mX_test\u001b[0m\u001b[0;34m,\u001b[0m\u001b[0my_test\u001b[0m\u001b[0;34m)\u001b[0m\u001b[0;34m\u001b[0m\u001b[0m\n\u001b[1;32m      8\u001b[0m     \u001b[0mprint\u001b[0m\u001b[0;34m(\u001b[0m\u001b[0;34m'test score:'\u001b[0m\u001b[0;34m,\u001b[0m\u001b[0mscore\u001b[0m\u001b[0;34m,\u001b[0m\u001b[0;34m'with {} \\n \\n '\u001b[0m\u001b[0;34m.\u001b[0m\u001b[0mformat\u001b[0m\u001b[0;34m(\u001b[0m\u001b[0mp\u001b[0m\u001b[0;34m)\u001b[0m\u001b[0;34m)\u001b[0m\u001b[0;34m\u001b[0m\u001b[0m\n",
      "\u001b[0;32m~/miniconda3/envs/carnd-term1/lib/python3.5/site-packages/keras/engine/training.py\u001b[0m in \u001b[0;36mfit\u001b[0;34m(self, x, y, batch_size, epochs, verbose, callbacks, validation_split, validation_data, shuffle, class_weight, sample_weight, initial_epoch, steps_per_epoch, validation_steps, **kwargs)\u001b[0m\n\u001b[1;32m   1596\u001b[0m                               \u001b[0minitial_epoch\u001b[0m\u001b[0;34m=\u001b[0m\u001b[0minitial_epoch\u001b[0m\u001b[0;34m,\u001b[0m\u001b[0;34m\u001b[0m\u001b[0m\n\u001b[1;32m   1597\u001b[0m                               \u001b[0msteps_per_epoch\u001b[0m\u001b[0;34m=\u001b[0m\u001b[0msteps_per_epoch\u001b[0m\u001b[0;34m,\u001b[0m\u001b[0;34m\u001b[0m\u001b[0m\n\u001b[0;32m-> 1598\u001b[0;31m                               validation_steps=validation_steps)\n\u001b[0m\u001b[1;32m   1599\u001b[0m \u001b[0;34m\u001b[0m\u001b[0m\n\u001b[1;32m   1600\u001b[0m     def evaluate(self, x, y,\n",
      "\u001b[0;32m~/miniconda3/envs/carnd-term1/lib/python3.5/site-packages/keras/engine/training.py\u001b[0m in \u001b[0;36m_fit_loop\u001b[0;34m(self, f, ins, out_labels, batch_size, epochs, verbose, callbacks, val_f, val_ins, shuffle, callback_metrics, initial_epoch, steps_per_epoch, validation_steps)\u001b[0m\n\u001b[1;32m   1181\u001b[0m                     \u001b[0mbatch_logs\u001b[0m\u001b[0;34m[\u001b[0m\u001b[0;34m'size'\u001b[0m\u001b[0;34m]\u001b[0m \u001b[0;34m=\u001b[0m \u001b[0mlen\u001b[0m\u001b[0;34m(\u001b[0m\u001b[0mbatch_ids\u001b[0m\u001b[0;34m)\u001b[0m\u001b[0;34m\u001b[0m\u001b[0m\n\u001b[1;32m   1182\u001b[0m                     \u001b[0mcallbacks\u001b[0m\u001b[0;34m.\u001b[0m\u001b[0mon_batch_begin\u001b[0m\u001b[0;34m(\u001b[0m\u001b[0mbatch_index\u001b[0m\u001b[0;34m,\u001b[0m \u001b[0mbatch_logs\u001b[0m\u001b[0;34m)\u001b[0m\u001b[0;34m\u001b[0m\u001b[0m\n\u001b[0;32m-> 1183\u001b[0;31m                     \u001b[0mouts\u001b[0m \u001b[0;34m=\u001b[0m \u001b[0mf\u001b[0m\u001b[0;34m(\u001b[0m\u001b[0mins_batch\u001b[0m\u001b[0;34m)\u001b[0m\u001b[0;34m\u001b[0m\u001b[0m\n\u001b[0m\u001b[1;32m   1184\u001b[0m                     \u001b[0;32mif\u001b[0m \u001b[0;32mnot\u001b[0m \u001b[0misinstance\u001b[0m\u001b[0;34m(\u001b[0m\u001b[0mouts\u001b[0m\u001b[0;34m,\u001b[0m \u001b[0mlist\u001b[0m\u001b[0;34m)\u001b[0m\u001b[0;34m:\u001b[0m\u001b[0;34m\u001b[0m\u001b[0m\n\u001b[1;32m   1185\u001b[0m                         \u001b[0mouts\u001b[0m \u001b[0;34m=\u001b[0m \u001b[0;34m[\u001b[0m\u001b[0mouts\u001b[0m\u001b[0;34m]\u001b[0m\u001b[0;34m\u001b[0m\u001b[0m\n",
      "\u001b[0;32m~/miniconda3/envs/carnd-term1/lib/python3.5/site-packages/keras/backend/tensorflow_backend.py\u001b[0m in \u001b[0;36m__call__\u001b[0;34m(self, inputs)\u001b[0m\n\u001b[1;32m   2271\u001b[0m         updated = session.run(self.outputs + [self.updates_op],\n\u001b[1;32m   2272\u001b[0m                               \u001b[0mfeed_dict\u001b[0m\u001b[0;34m=\u001b[0m\u001b[0mfeed_dict\u001b[0m\u001b[0;34m,\u001b[0m\u001b[0;34m\u001b[0m\u001b[0m\n\u001b[0;32m-> 2273\u001b[0;31m                               **self.session_kwargs)\n\u001b[0m\u001b[1;32m   2274\u001b[0m         \u001b[0;32mreturn\u001b[0m \u001b[0mupdated\u001b[0m\u001b[0;34m[\u001b[0m\u001b[0;34m:\u001b[0m\u001b[0mlen\u001b[0m\u001b[0;34m(\u001b[0m\u001b[0mself\u001b[0m\u001b[0;34m.\u001b[0m\u001b[0moutputs\u001b[0m\u001b[0;34m)\u001b[0m\u001b[0;34m]\u001b[0m\u001b[0;34m\u001b[0m\u001b[0m\n\u001b[1;32m   2275\u001b[0m \u001b[0;34m\u001b[0m\u001b[0m\n",
      "\u001b[0;32m~/miniconda3/envs/carnd-term1/lib/python3.5/site-packages/tensorflow/python/client/session.py\u001b[0m in \u001b[0;36mrun\u001b[0;34m(self, fetches, feed_dict, options, run_metadata)\u001b[0m\n\u001b[1;32m    893\u001b[0m     \u001b[0;32mtry\u001b[0m\u001b[0;34m:\u001b[0m\u001b[0;34m\u001b[0m\u001b[0m\n\u001b[1;32m    894\u001b[0m       result = self._run(None, fetches, feed_dict, options_ptr,\n\u001b[0;32m--> 895\u001b[0;31m                          run_metadata_ptr)\n\u001b[0m\u001b[1;32m    896\u001b[0m       \u001b[0;32mif\u001b[0m \u001b[0mrun_metadata\u001b[0m\u001b[0;34m:\u001b[0m\u001b[0;34m\u001b[0m\u001b[0m\n\u001b[1;32m    897\u001b[0m         \u001b[0mproto_data\u001b[0m \u001b[0;34m=\u001b[0m \u001b[0mtf_session\u001b[0m\u001b[0;34m.\u001b[0m\u001b[0mTF_GetBuffer\u001b[0m\u001b[0;34m(\u001b[0m\u001b[0mrun_metadata_ptr\u001b[0m\u001b[0;34m)\u001b[0m\u001b[0;34m\u001b[0m\u001b[0m\n",
      "\u001b[0;32m~/miniconda3/envs/carnd-term1/lib/python3.5/site-packages/tensorflow/python/client/session.py\u001b[0m in \u001b[0;36m_run\u001b[0;34m(self, handle, fetches, feed_dict, options, run_metadata)\u001b[0m\n\u001b[1;32m   1122\u001b[0m     \u001b[0;32mif\u001b[0m \u001b[0mfinal_fetches\u001b[0m \u001b[0;32mor\u001b[0m \u001b[0mfinal_targets\u001b[0m \u001b[0;32mor\u001b[0m \u001b[0;34m(\u001b[0m\u001b[0mhandle\u001b[0m \u001b[0;32mand\u001b[0m \u001b[0mfeed_dict_tensor\u001b[0m\u001b[0;34m)\u001b[0m\u001b[0;34m:\u001b[0m\u001b[0;34m\u001b[0m\u001b[0m\n\u001b[1;32m   1123\u001b[0m       results = self._do_run(handle, final_targets, final_fetches,\n\u001b[0;32m-> 1124\u001b[0;31m                              feed_dict_tensor, options, run_metadata)\n\u001b[0m\u001b[1;32m   1125\u001b[0m     \u001b[0;32melse\u001b[0m\u001b[0;34m:\u001b[0m\u001b[0;34m\u001b[0m\u001b[0m\n\u001b[1;32m   1126\u001b[0m       \u001b[0mresults\u001b[0m \u001b[0;34m=\u001b[0m \u001b[0;34m[\u001b[0m\u001b[0;34m]\u001b[0m\u001b[0;34m\u001b[0m\u001b[0m\n",
      "\u001b[0;32m~/miniconda3/envs/carnd-term1/lib/python3.5/site-packages/tensorflow/python/client/session.py\u001b[0m in \u001b[0;36m_do_run\u001b[0;34m(self, handle, target_list, fetch_list, feed_dict, options, run_metadata)\u001b[0m\n\u001b[1;32m   1319\u001b[0m     \u001b[0;32mif\u001b[0m \u001b[0mhandle\u001b[0m \u001b[0;32mis\u001b[0m \u001b[0;32mNone\u001b[0m\u001b[0;34m:\u001b[0m\u001b[0;34m\u001b[0m\u001b[0m\n\u001b[1;32m   1320\u001b[0m       return self._do_call(_run_fn, self._session, feeds, fetches, targets,\n\u001b[0;32m-> 1321\u001b[0;31m                            options, run_metadata)\n\u001b[0m\u001b[1;32m   1322\u001b[0m     \u001b[0;32melse\u001b[0m\u001b[0;34m:\u001b[0m\u001b[0;34m\u001b[0m\u001b[0m\n\u001b[1;32m   1323\u001b[0m       \u001b[0;32mreturn\u001b[0m \u001b[0mself\u001b[0m\u001b[0;34m.\u001b[0m\u001b[0m_do_call\u001b[0m\u001b[0;34m(\u001b[0m\u001b[0m_prun_fn\u001b[0m\u001b[0;34m,\u001b[0m \u001b[0mself\u001b[0m\u001b[0;34m.\u001b[0m\u001b[0m_session\u001b[0m\u001b[0;34m,\u001b[0m \u001b[0mhandle\u001b[0m\u001b[0;34m,\u001b[0m \u001b[0mfeeds\u001b[0m\u001b[0;34m,\u001b[0m \u001b[0mfetches\u001b[0m\u001b[0;34m)\u001b[0m\u001b[0;34m\u001b[0m\u001b[0m\n",
      "\u001b[0;32m~/miniconda3/envs/carnd-term1/lib/python3.5/site-packages/tensorflow/python/client/session.py\u001b[0m in \u001b[0;36m_do_call\u001b[0;34m(self, fn, *args)\u001b[0m\n\u001b[1;32m   1325\u001b[0m   \u001b[0;32mdef\u001b[0m \u001b[0m_do_call\u001b[0m\u001b[0;34m(\u001b[0m\u001b[0mself\u001b[0m\u001b[0;34m,\u001b[0m \u001b[0mfn\u001b[0m\u001b[0;34m,\u001b[0m \u001b[0;34m*\u001b[0m\u001b[0margs\u001b[0m\u001b[0;34m)\u001b[0m\u001b[0;34m:\u001b[0m\u001b[0;34m\u001b[0m\u001b[0m\n\u001b[1;32m   1326\u001b[0m     \u001b[0;32mtry\u001b[0m\u001b[0;34m:\u001b[0m\u001b[0;34m\u001b[0m\u001b[0m\n\u001b[0;32m-> 1327\u001b[0;31m       \u001b[0;32mreturn\u001b[0m \u001b[0mfn\u001b[0m\u001b[0;34m(\u001b[0m\u001b[0;34m*\u001b[0m\u001b[0margs\u001b[0m\u001b[0;34m)\u001b[0m\u001b[0;34m\u001b[0m\u001b[0m\n\u001b[0m\u001b[1;32m   1328\u001b[0m     \u001b[0;32mexcept\u001b[0m \u001b[0merrors\u001b[0m\u001b[0;34m.\u001b[0m\u001b[0mOpError\u001b[0m \u001b[0;32mas\u001b[0m \u001b[0me\u001b[0m\u001b[0;34m:\u001b[0m\u001b[0;34m\u001b[0m\u001b[0m\n\u001b[1;32m   1329\u001b[0m       \u001b[0mmessage\u001b[0m \u001b[0;34m=\u001b[0m \u001b[0mcompat\u001b[0m\u001b[0;34m.\u001b[0m\u001b[0mas_text\u001b[0m\u001b[0;34m(\u001b[0m\u001b[0me\u001b[0m\u001b[0;34m.\u001b[0m\u001b[0mmessage\u001b[0m\u001b[0;34m)\u001b[0m\u001b[0;34m\u001b[0m\u001b[0m\n",
      "\u001b[0;32m~/miniconda3/envs/carnd-term1/lib/python3.5/site-packages/tensorflow/python/client/session.py\u001b[0m in \u001b[0;36m_run_fn\u001b[0;34m(session, feed_dict, fetch_list, target_list, options, run_metadata)\u001b[0m\n\u001b[1;32m   1304\u001b[0m           return tf_session.TF_Run(session, options,\n\u001b[1;32m   1305\u001b[0m                                    \u001b[0mfeed_dict\u001b[0m\u001b[0;34m,\u001b[0m \u001b[0mfetch_list\u001b[0m\u001b[0;34m,\u001b[0m \u001b[0mtarget_list\u001b[0m\u001b[0;34m,\u001b[0m\u001b[0;34m\u001b[0m\u001b[0m\n\u001b[0;32m-> 1306\u001b[0;31m                                    status, run_metadata)\n\u001b[0m\u001b[1;32m   1307\u001b[0m \u001b[0;34m\u001b[0m\u001b[0m\n\u001b[1;32m   1308\u001b[0m     \u001b[0;32mdef\u001b[0m \u001b[0m_prun_fn\u001b[0m\u001b[0;34m(\u001b[0m\u001b[0msession\u001b[0m\u001b[0;34m,\u001b[0m \u001b[0mhandle\u001b[0m\u001b[0;34m,\u001b[0m \u001b[0mfeed_dict\u001b[0m\u001b[0;34m,\u001b[0m \u001b[0mfetch_list\u001b[0m\u001b[0;34m)\u001b[0m\u001b[0;34m:\u001b[0m\u001b[0;34m\u001b[0m\u001b[0m\n",
      "\u001b[0;31mKeyboardInterrupt\u001b[0m: "
     ]
    }
   ],
   "source": [
    "for p in parameters:\n",
    "    K.clear_session()\n",
    "    model = build_model(inputs_shape=X_train.shape, dropout=p[0], learning_rate=p[1])\n",
    "    print('*'*100)\n",
    "    print('using parameters: '+str(p)+'\\n')\n",
    "    model.fit(X_train, y_train, epochs=1, batch_size=64, validation_split=0.05, callbacks=callbacks, shuffle=\"batch\")\n",
    "    score = model.evaluate(X_test,y_test)\n",
    "    print('test score:',score,'with {} \\n \\n '.format(p))\n",
    "\n"
   ]
  },
  {
   "cell_type": "code",
   "execution_count": 14,
   "metadata": {
    "ExecuteTime": {
     "end_time": "2017-12-26T04:18:36.546041Z",
     "start_time": "2017-12-26T04:18:36.475462Z"
    }
   },
   "outputs": [],
   "source": [
    "def train_model(model, X, y, p, max_wait_epochs=5,n_epochs=20, model_path='./models/basicBNdrop_{}_{}'.format(p[0],p[1])):\n",
    "    best_score = 1000.\n",
    "    best_epoch = 1\n",
    "    best_model = None\n",
    "    scores_his = []\n",
    "    cnt = 0\n",
    "    \n",
    "    print(\"\\n**********************************************************************\")\n",
    "    print(\"using parameter: dropout={}, learningrate={} \\n\".format(p[0],p[1]))\n",
    "    for i in range(n_epochs):\n",
    "        model.fit(X, y, epochs=1, batch_size=64, validation_split=0.05, shuffle=\"batch\")\n",
    "        cur_score=model.evaluate(X_test,y_test)\n",
    "        scores_his.append(cur_score)\n",
    "        print(\"Epoch {}, current test score: {:.4f}\".format(i+1, cur_score))\n",
    "        \n",
    "        if cur_score < best_score:\n",
    "            best_score = cur_score\n",
    "            best_model = model\n",
    "            best_epoch = i+1\n",
    "            model.save(model_path+'_epoch{}_{:.3f}.h5'.format(i+1,cur_score))\n",
    "            cnt = 0\n",
    "        else:\n",
    "            cnt+=1\n",
    "        if (cnt >= max_wait_epochs) or (cur_score>1000):\n",
    "            break\n",
    "    print(\"**********************************************************************\")\n",
    "    print(\"using parameter: dropout={}, learningrate={}\".format(p[0],p[1]))\n",
    "    print(\"train {} epochs, best score: {} in epoch: {} \\n\".format(i+1, best_score, best_epoch))\n",
    "\n",
    "    return best_model, best_score, scores_his\n",
    "    "
   ]
  },
  {
   "cell_type": "code",
   "execution_count": 15,
   "metadata": {
    "ExecuteTime": {
     "end_time": "2017-12-26T04:24:13.429999Z",
     "start_time": "2017-12-26T04:18:40.086641Z"
    },
    "scrolled": true
   },
   "outputs": [
    {
     "name": "stdout",
     "output_type": "stream",
     "text": [
      "\n",
      " **********************************************************************\n",
      "using parameter: dropout=0.2, learningrate=0.001 \n",
      "\n",
      "Train on 121 samples, validate on 7 samples\n",
      "Epoch 1/1\n",
      "121/121 [==============================] - 3s - loss: 23.2152 - val_loss: 39.1025\n",
      "2700/2700 [==============================] - 16s    \n",
      "Epoch 1, current test score: 7.9001\n",
      "Train on 121 samples, validate on 7 samples\n",
      "Epoch 1/1\n",
      "121/121 [==============================] - 2s - loss: 20.1974 - val_loss: 39.2083\n",
      "2700/2700 [==============================] - 15s    \n",
      "Epoch 2, current test score: 7.9933\n",
      "Train on 121 samples, validate on 7 samples\n",
      "Epoch 1/1\n",
      "121/121 [==============================] - 1s - loss: 16.5743 - val_loss: 39.1756\n",
      "2700/2700 [==============================] - 14s    \n",
      "Epoch 3, current test score: 7.9785\n",
      "Train on 121 samples, validate on 7 samples\n",
      "Epoch 1/1\n",
      "121/121 [==============================] - 1s - loss: 16.4598 - val_loss: 39.2086\n",
      "2700/2700 [==============================] - 14s    \n",
      "Epoch 4, current test score: 8.0137\n",
      "**********************************************************************\n",
      "using parameter: dropout=0.2, learningrate=0.001\n",
      "train 4 epochs, best score: 7.900071037433766 in epoch: 1 \n",
      "\n",
      "\n",
      " **********************************************************************\n",
      "using parameter: dropout=0.2, learningrate=0.01 \n",
      "\n",
      "Train on 121 samples, validate on 7 samples\n",
      "Epoch 1/1\n",
      "121/121 [==============================] - 3s - loss: 21.3415 - val_loss: 43.5656\n",
      "2700/2700 [==============================] - 16s    \n",
      "Epoch 1, current test score: 16.5426\n",
      "Train on 121 samples, validate on 7 samples\n",
      "Epoch 1/1\n",
      "121/121 [==============================] - 1s - loss: 21.0366 - val_loss: 587.4277\n",
      "2700/2700 [==============================] - 16s    \n",
      "Epoch 2, current test score: 625.3239\n",
      "Train on 121 samples, validate on 7 samples\n",
      "Epoch 1/1\n",
      "121/121 [==============================] - 1s - loss: 18.6010 - val_loss: 13618.6406\n",
      "2700/2700 [==============================] - 16s    \n",
      "Epoch 3, current test score: 13443.9736\n",
      "**********************************************************************\n",
      "using parameter: dropout=0.2, learningrate=0.01\n",
      "train 3 epochs, best score: 16.54262533823649 in epoch: 1 \n",
      "\n",
      "\n",
      " **********************************************************************\n",
      "using parameter: dropout=0.2, learningrate=0.05 \n",
      "\n",
      "Train on 121 samples, validate on 7 samples\n",
      "Epoch 1/1\n",
      "121/121 [==============================] - 3s - loss: 20.2278 - val_loss: 748602.8750\n",
      "2700/2700 [==============================] - 16s    \n",
      "Epoch 1, current test score: 1249077.2154\n",
      "**********************************************************************\n",
      "using parameter: dropout=0.2, learningrate=0.05\n",
      "train 1 epochs, best score: 1000.0 in epoch: 1 \n",
      "\n",
      "\n",
      " **********************************************************************\n",
      "using parameter: dropout=0.3, learningrate=0.001 \n",
      "\n",
      "Train on 121 samples, validate on 7 samples\n",
      "Epoch 1/1\n",
      "121/121 [==============================] - 3s - loss: 26.6733 - val_loss: 38.9978\n",
      "2700/2700 [==============================] - 16s    \n",
      "Epoch 1, current test score: 7.7805\n",
      "Train on 121 samples, validate on 7 samples\n",
      "Epoch 1/1\n",
      "121/121 [==============================] - 1s - loss: 20.6707 - val_loss: 39.0989\n",
      "2700/2700 [==============================] - 15s    \n",
      "Epoch 2, current test score: 7.8977\n",
      "Train on 121 samples, validate on 7 samples\n",
      "Epoch 1/1\n",
      "121/121 [==============================] - 1s - loss: 19.0432 - val_loss: 39.1466\n",
      "2700/2700 [==============================] - 16s    \n",
      "Epoch 3, current test score: 7.9871\n",
      "Train on 121 samples, validate on 7 samples\n",
      "Epoch 1/1\n",
      "121/121 [==============================] - 1s - loss: 18.7668 - val_loss: 39.1974\n",
      "2700/2700 [==============================] - 16s    \n",
      "Epoch 4, current test score: 8.0683\n",
      "**********************************************************************\n",
      "using parameter: dropout=0.3, learningrate=0.001\n",
      "train 4 epochs, best score: 7.780523223170528 in epoch: 1 \n",
      "\n",
      "\n",
      " **********************************************************************\n",
      "using parameter: dropout=0.3, learningrate=0.01 \n",
      "\n",
      "Train on 121 samples, validate on 7 samples\n",
      "Epoch 1/1\n",
      "121/121 [==============================] - 3s - loss: 23.2006 - val_loss: 40.9147\n",
      "2700/2700 [==============================] - 16s    \n",
      "Epoch 1, current test score: 11.3174\n",
      "Train on 121 samples, validate on 7 samples\n",
      "Epoch 1/1\n",
      "121/121 [==============================] - 1s - loss: 19.7017 - val_loss: 154.2626\n",
      "2700/2700 [==============================] - 16s    \n",
      "Epoch 2, current test score: 174.0427\n",
      "Train on 121 samples, validate on 7 samples\n",
      "Epoch 1/1\n",
      "121/121 [==============================] - 1s - loss: 18.5459 - val_loss: 4894.2329\n",
      "2700/2700 [==============================] - 16s    \n",
      "Epoch 3, current test score: 6604.7453\n",
      "**********************************************************************\n",
      "using parameter: dropout=0.3, learningrate=0.01\n",
      "train 3 epochs, best score: 11.317412174366138 in epoch: 1 \n",
      "\n",
      "\n",
      " **********************************************************************\n",
      "using parameter: dropout=0.3, learningrate=0.05 \n",
      "\n",
      "Train on 121 samples, validate on 7 samples\n",
      "Epoch 1/1\n",
      "121/121 [==============================] - 5s - loss: 22.3950 - val_loss: 22681906.0000\n",
      "2700/2700 [==============================] - 21s    \n",
      "Epoch 1, current test score: 26851596.3526\n",
      "**********************************************************************\n",
      "using parameter: dropout=0.3, learningrate=0.05\n",
      "train 1 epochs, best score: 1000.0 in epoch: 1 \n",
      "\n"
     ]
    }
   ],
   "source": [
    "best_score = 10\n",
    "\n",
    "for p in parameters:\n",
    "    K.clear_session()\n",
    "    model = build_model(inputs_shape=X_train.shape, dropout=p[0], learning_rate=p[1])\n",
    "    \n",
    "    cur_best_model, cur_best_score, cur_scores_his = train_model(model, X_train[:128], y_train[:128], p, \n",
    "                                     max_wait_epochs=3,n_epochs=10, \n",
    "                                     model_path='./models/basicBNdrop_{}_{}'.format(p[0],p[1]))\n",
    "    \n",
    "    if cur_best_score < best_score:\n",
    "        best_score = cur_best_score\n",
    "        best_model = cur_best_model\n",
    "        best_scores_his = cur_scores_his\n",
    "#     model.fit(X_train, y_train, epochs=1, batch_size=64, validation_split=0.05, callbacks=callbacks, shuffle=\"batch\")\n",
    "#     score = model.evaluate(X_test,y_test)\n",
    "    \n",
    "    \n",
    "    \n",
    "#     print('test score:',score,'with {} \\n \\n '.format(p))"
   ]
  },
  {
   "cell_type": "code",
   "execution_count": 24,
   "metadata": {
    "ExecuteTime": {
     "end_time": "2017-12-26T03:19:50.911062Z",
     "start_time": "2017-12-26T03:18:30.076264Z"
    }
   },
   "outputs": [
    {
     "name": "stdout",
     "output_type": "stream",
     "text": [
      "Train on 121 samples, validate on 7 samples\n",
      "Epoch 1/1\n",
      "121/121 [==============================] - 4s - loss: 20.2382 - val_loss: 13.4933\n",
      "2700/2700 [==============================] - 18s    \n",
      "Train on 121 samples, validate on 7 samples\n",
      "Epoch 1/1\n",
      "121/121 [==============================] - 1s - loss: 19.0601 - val_loss: 13.4554\n",
      "2700/2700 [==============================] - 16s    \n",
      "Train on 121 samples, validate on 7 samples\n",
      "Epoch 1/1\n",
      "121/121 [==============================] - 1s - loss: 19.8305 - val_loss: 13.4004\n",
      "2700/2700 [==============================] - 15s    \n",
      "Train on 121 samples, validate on 7 samples\n",
      "Epoch 1/1\n",
      "121/121 [==============================] - 1s - loss: 16.5464 - val_loss: 13.3854\n",
      "2700/2700 [==============================] - 15s    \n",
      "----------------------------------------\n",
      "using parameter: dropout=0.1, learningrate=0.01\n",
      "train 10 epochs, best score: 7.959995614952511 in epoch: 1 \n",
      "\n"
     ]
    }
   ],
   "source": [
    "model = build_model(inputs_shape=X_train.shape)\n",
    "p=[0.1, 0.01]\n",
    "best_model, best_score, scores_his = train_model(model, X_train[:128], y_train[:128], p, \n",
    "                                     max_wait_epochs=3,n_epochs=10, \n",
    "                                     model_path='./models/basicBNdrop_{}_{}'.format(p[0],p[1]))"
   ]
  },
  {
   "cell_type": "code",
   "execution_count": null,
   "metadata": {},
   "outputs": [],
   "source": []
  },
  {
   "cell_type": "code",
   "execution_count": null,
   "metadata": {},
   "outputs": [],
   "source": []
  },
  {
   "cell_type": "markdown",
   "metadata": {},
   "source": [
    "## Random Search\n",
    "接下来利用随机搜索进行超参数调优，   \n",
    "在0.001-0.01范围内随机选择6个值作为learning rate，   \n",
    "在0.25-0.35范围内随机选择3个值作为dropout rate，两两组合后共得到18组超参数。   \n",
    "(0.329172504，0.001904038)这组参数得到了非常喜人的成绩，测试集上的均方差值只有1.79。  "
   ]
  },
  {
   "cell_type": "code",
   "execution_count": null,
   "metadata": {},
   "outputs": [],
   "source": [
    "#----------------------------------------------\n",
    "#----------------using random search\n",
    "np.random.seed(0)\n",
    "dropouts = list(0.1*np.random.rand(3)+0.25)\n",
    "\n",
    "r = -1*np.random.rand(6)-2\n",
    "learning_rates = list(10**r)\n",
    "learning_rates.append(0.001)"
   ]
  },
  {
   "cell_type": "markdown",
   "metadata": {},
   "source": [
    "# Result"
   ]
  },
  {
   "cell_type": "code",
   "execution_count": 2,
   "metadata": {
    "ExecuteTime": {
     "end_time": "2017-12-26T12:06:53.389251Z",
     "start_time": "2017-12-26T12:06:51.523979Z"
    }
   },
   "outputs": [
    {
     "name": "stdout",
     "output_type": "stream",
     "text": [
      "CPU times: user 5.11 ms, sys: 935 ms, total: 940 ms\n",
      "Wall time: 1.83 s\n",
      "CPU times: user 1.92 ms, sys: 2.47 ms, total: 4.39 ms\n",
      "Wall time: 10.2 ms\n"
     ]
    }
   ],
   "source": [
    "h5f2 = h5py.File('./data/test.h5','r')\n",
    "%time X_test = h5f2['image'][:]\n",
    "%time y_test = h5f2['steering'][:]\n",
    "h5f2.close()"
   ]
  },
  {
   "cell_type": "code",
   "execution_count": 3,
   "metadata": {
    "ExecuteTime": {
     "end_time": "2017-12-26T12:10:50.459641Z",
     "start_time": "2017-12-26T12:10:19.827451Z"
    }
   },
   "outputs": [
    {
     "name": "stdout",
     "output_type": "stream",
     "text": [
      "2700/2700 [==============================] - 20s    \n"
     ]
    },
    {
     "data": {
      "text/plain": [
       "1.7855939465981943"
      ]
     },
     "execution_count": 3,
     "metadata": {},
     "output_type": "execute_result"
    }
   ],
   "source": [
    "from keras.models import load_model\n",
    "\n",
    "model = load_model('./models/basicBNdrop_0.32917250380826646_0.0019040375394559835_epoch2_1.786.h5')\n",
    "model.evaluate(X_test,y_test)\n"
   ]
  },
  {
   "cell_type": "code",
   "execution_count": 4,
   "metadata": {
    "ExecuteTime": {
     "end_time": "2017-12-26T12:15:10.774778Z",
     "start_time": "2017-12-26T12:15:10.743227Z"
    }
   },
   "outputs": [],
   "source": [
    "# save model architecture into a json file\n",
    "json_string = model.to_json()\n",
    "\n",
    "with open('./models/model.json', 'w') as outfile:\n",
    "        outfile.write(json_string)"
   ]
  },
  {
   "cell_type": "code",
   "execution_count": 5,
   "metadata": {
    "ExecuteTime": {
     "end_time": "2017-12-26T12:16:15.727520Z",
     "start_time": "2017-12-26T12:16:15.406064Z"
    }
   },
   "outputs": [],
   "source": [
    "# only save weights\n",
    "model.save_weights('./models/model.h5')"
   ]
  }
 ],
 "metadata": {
  "kernelspec": {
   "display_name": "Python 3",
   "language": "python",
   "name": "python3"
  },
  "language_info": {
   "codemirror_mode": {
    "name": "ipython",
    "version": 3
   },
   "file_extension": ".py",
   "mimetype": "text/x-python",
   "name": "python",
   "nbconvert_exporter": "python",
   "pygments_lexer": "ipython3",
   "version": "3.5.2"
  },
  "toc": {
   "nav_menu": {},
   "number_sections": true,
   "sideBar": true,
   "skip_h1_title": false,
   "toc_cell": false,
   "toc_position": {
    "height": "759px",
    "left": "0px",
    "right": "1228px",
    "top": "67px",
    "width": "231px"
   },
   "toc_section_display": "block",
   "toc_window_display": true
  },
  "widgets": {
   "state": {},
   "version": "1.1.2"
  }
 },
 "nbformat": 4,
 "nbformat_minor": 2
}
